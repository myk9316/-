{
 "cells": [
  {
   "cell_type": "markdown",
   "metadata": {},
   "source": [
    "# 1. 데이터 불러오기"
   ]
  },
  {
   "cell_type": "code",
   "execution_count": 1,
   "metadata": {},
   "outputs": [],
   "source": [
    "import pandas as pd\n",
    "import numpy as np\n",
    "import matplotlib.pyplot as plt\n",
    "from tqdm import tqdm"
   ]
  },
  {
   "cell_type": "code",
   "execution_count": 50,
   "metadata": {},
   "outputs": [],
   "source": [
    "df = pd.read_csv('2016_movie_reviews.txt', delimiter='\\t\\t', engine='python', header=None, encoding='UTF-8')\n",
    "df.columns = ['id', 'document', 'score']"
   ]
  },
  {
   "cell_type": "code",
   "execution_count": 51,
   "metadata": {},
   "outputs": [
    {
     "data": {
      "text/html": [
       "<div>\n",
       "<style scoped>\n",
       "    .dataframe tbody tr th:only-of-type {\n",
       "        vertical-align: middle;\n",
       "    }\n",
       "\n",
       "    .dataframe tbody tr th {\n",
       "        vertical-align: top;\n",
       "    }\n",
       "\n",
       "    .dataframe thead th {\n",
       "        text-align: right;\n",
       "    }\n",
       "</style>\n",
       "<table border=\"1\" class=\"dataframe\">\n",
       "  <thead>\n",
       "    <tr style=\"text-align: right;\">\n",
       "      <th></th>\n",
       "      <th>id</th>\n",
       "      <th>document</th>\n",
       "      <th>score</th>\n",
       "    </tr>\n",
       "  </thead>\n",
       "  <tbody>\n",
       "    <tr>\n",
       "      <th>0</th>\n",
       "      <td>140693</td>\n",
       "      <td>아니 딴건 그렇다 치고 비비탄 총은 대체 왜 들고 온겨 ㅋㅋㅋ</td>\n",
       "      <td>7</td>\n",
       "    </tr>\n",
       "    <tr>\n",
       "      <th>1</th>\n",
       "      <td>140693</td>\n",
       "      <td>진심 이리 쓰레기를 영화라 만들다니 무서울줄알고 쫄아서 틀었는데 이건 뭐 웃을거리도...</td>\n",
       "      <td>1</td>\n",
       "    </tr>\n",
       "    <tr>\n",
       "      <th>2</th>\n",
       "      <td>140693</td>\n",
       "      <td>역대 좀비영화중 가장 최고다.. 원작만화 읽어보려다 영화 보고 결정하려... 감독이...</td>\n",
       "      <td>10</td>\n",
       "    </tr>\n",
       "    <tr>\n",
       "      <th>3</th>\n",
       "      <td>140693</td>\n",
       "      <td>온종일 불편한 피범벅일뿐</td>\n",
       "      <td>6</td>\n",
       "    </tr>\n",
       "    <tr>\n",
       "      <th>4</th>\n",
       "      <td>140693</td>\n",
       "      <td>답답함의 극치. 움직일수 잇으면 좀 움직여라 어지간히 좀비 봣으면 그만 얼타고 때려...</td>\n",
       "      <td>1</td>\n",
       "    </tr>\n",
       "  </tbody>\n",
       "</table>\n",
       "</div>"
      ],
      "text/plain": [
       "       id                                           document  score\n",
       "0  140693                 아니 딴건 그렇다 치고 비비탄 총은 대체 왜 들고 온겨 ㅋㅋㅋ      7\n",
       "1  140693  진심 이리 쓰레기를 영화라 만들다니 무서울줄알고 쫄아서 틀었는데 이건 뭐 웃을거리도...      1\n",
       "2  140693  역대 좀비영화중 가장 최고다.. 원작만화 읽어보려다 영화 보고 결정하려... 감독이...     10\n",
       "3  140693                                      온종일 불편한 피범벅일뿐      6\n",
       "4  140693  답답함의 극치. 움직일수 잇으면 좀 움직여라 어지간히 좀비 봣으면 그만 얼타고 때려...      1"
      ]
     },
     "execution_count": 51,
     "metadata": {},
     "output_type": "execute_result"
    }
   ],
   "source": [
    "df.head()"
   ]
  },
  {
   "cell_type": "code",
   "execution_count": 53,
   "metadata": {},
   "outputs": [
    {
     "name": "stdout",
     "output_type": "stream",
     "text": [
      "788189\n"
     ]
    }
   ],
   "source": [
    "print(len(df))"
   ]
  },
  {
   "cell_type": "markdown",
   "metadata": {},
   "source": [
    "# 2. 데이터 클리닝"
   ]
  },
  {
   "cell_type": "markdown",
   "metadata": {},
   "source": [
    "## 2.1 중립적인 리뷰 삭제 \n",
    "- 5~7점 리뷰 삭제"
   ]
  },
  {
   "cell_type": "code",
   "execution_count": 54,
   "metadata": {},
   "outputs": [
    {
     "data": {
      "text/plain": [
       "1      58295\n",
       "2       9853\n",
       "3      10696\n",
       "4      11548\n",
       "5      26008\n",
       "6      32730\n",
       "7      56845\n",
       "8     112648\n",
       "9     117921\n",
       "10    351645\n",
       "Name: score, dtype: int64"
      ]
     },
     "execution_count": 54,
     "metadata": {},
     "output_type": "execute_result"
    }
   ],
   "source": [
    "df['score'].value_counts().sort_index(ascending=True)"
   ]
  },
  {
   "cell_type": "code",
   "execution_count": 55,
   "metadata": {},
   "outputs": [],
   "source": [
    "df.drop(df[df['score'] == 5].index, inplace=True)"
   ]
  },
  {
   "cell_type": "code",
   "execution_count": 56,
   "metadata": {},
   "outputs": [],
   "source": [
    "df.drop(df[df['score'] == 6].index, inplace=True)"
   ]
  },
  {
   "cell_type": "code",
   "execution_count": 57,
   "metadata": {},
   "outputs": [],
   "source": [
    "df.drop(df[df['score'] == 7].index, inplace=True)"
   ]
  },
  {
   "cell_type": "code",
   "execution_count": 58,
   "metadata": {},
   "outputs": [
    {
     "data": {
      "text/plain": [
       "1      58295\n",
       "2       9853\n",
       "3      10696\n",
       "4      11548\n",
       "8     112648\n",
       "9     117921\n",
       "10    351645\n",
       "Name: score, dtype: int64"
      ]
     },
     "execution_count": 58,
     "metadata": {},
     "output_type": "execute_result"
    }
   ],
   "source": [
    "df['score'].value_counts().sort_index(ascending=True)"
   ]
  },
  {
   "cell_type": "code",
   "execution_count": 59,
   "metadata": {},
   "outputs": [
    {
     "name": "stdout",
     "output_type": "stream",
     "text": [
      "672606\n"
     ]
    }
   ],
   "source": [
    "print(len(df))"
   ]
  },
  {
   "cell_type": "markdown",
   "metadata": {},
   "source": [
    "## 2.2 Null 값 포함하는 행 제거"
   ]
  },
  {
   "cell_type": "code",
   "execution_count": 61,
   "metadata": {},
   "outputs": [
    {
     "data": {
      "text/plain": [
       "3"
      ]
     },
     "execution_count": 61,
     "metadata": {},
     "output_type": "execute_result"
    }
   ],
   "source": [
    "df['document'].isna().sum()"
   ]
  },
  {
   "cell_type": "code",
   "execution_count": 63,
   "metadata": {},
   "outputs": [],
   "source": [
    "df = df.dropna(axis=0)"
   ]
  },
  {
   "cell_type": "code",
   "execution_count": 64,
   "metadata": {
    "scrolled": true
   },
   "outputs": [
    {
     "data": {
      "text/plain": [
       "0"
      ]
     },
     "execution_count": 64,
     "metadata": {},
     "output_type": "execute_result"
    }
   ],
   "source": [
    "df['document'].isna().sum()"
   ]
  },
  {
   "cell_type": "code",
   "execution_count": 65,
   "metadata": {},
   "outputs": [
    {
     "name": "stdout",
     "output_type": "stream",
     "text": [
      "672603\n"
     ]
    }
   ],
   "source": [
    "print(len(df))"
   ]
  },
  {
   "cell_type": "markdown",
   "metadata": {},
   "source": [
    "## 2.3 평점 기준으로 문서에 0 또는 1의 label 추가\n",
    "- 1 ~ 4 : 부정 0\n",
    "- 8 ~ 10 : 긍정 1"
   ]
  },
  {
   "cell_type": "code",
   "execution_count": 79,
   "metadata": {},
   "outputs": [],
   "source": [
    "def convert_label(x):\n",
    "    if x >= 8:\n",
    "        return 1\n",
    "    else:\n",
    "        return 0\n",
    "df['label'] = df['score'].apply(convert_label)"
   ]
  },
  {
   "cell_type": "code",
   "execution_count": 85,
   "metadata": {},
   "outputs": [
    {
     "data": {
      "text/plain": [
       "0     90390\n",
       "1    582213\n",
       "Name: label, dtype: int64"
      ]
     },
     "execution_count": 85,
     "metadata": {},
     "output_type": "execute_result"
    }
   ],
   "source": [
    "df['label'].value_counts().sort_index(ascending=True)"
   ]
  },
  {
   "cell_type": "code",
   "execution_count": 96,
   "metadata": {
    "scrolled": true
   },
   "outputs": [
    {
     "data": {
      "text/html": [
       "<div>\n",
       "<style scoped>\n",
       "    .dataframe tbody tr th:only-of-type {\n",
       "        vertical-align: middle;\n",
       "    }\n",
       "\n",
       "    .dataframe tbody tr th {\n",
       "        vertical-align: top;\n",
       "    }\n",
       "\n",
       "    .dataframe thead th {\n",
       "        text-align: right;\n",
       "    }\n",
       "</style>\n",
       "<table border=\"1\" class=\"dataframe\">\n",
       "  <thead>\n",
       "    <tr style=\"text-align: right;\">\n",
       "      <th></th>\n",
       "      <th>id</th>\n",
       "      <th>document</th>\n",
       "      <th>score</th>\n",
       "      <th>label</th>\n",
       "    </tr>\n",
       "  </thead>\n",
       "  <tbody>\n",
       "    <tr>\n",
       "      <th>1</th>\n",
       "      <td>140693</td>\n",
       "      <td>진심 이리 쓰레기를 영화라 만들다니 무서울줄알고 쫄아서 틀었는데 이건 뭐 웃을거리도...</td>\n",
       "      <td>1</td>\n",
       "      <td>0</td>\n",
       "    </tr>\n",
       "    <tr>\n",
       "      <th>2</th>\n",
       "      <td>140693</td>\n",
       "      <td>역대 좀비영화중 가장 최고다.. 원작만화 읽어보려다 영화 보고 결정하려... 감독이...</td>\n",
       "      <td>10</td>\n",
       "      <td>1</td>\n",
       "    </tr>\n",
       "    <tr>\n",
       "      <th>4</th>\n",
       "      <td>140693</td>\n",
       "      <td>답답함의 극치. 움직일수 잇으면 좀 움직여라 어지간히 좀비 봣으면 그만 얼타고 때려...</td>\n",
       "      <td>1</td>\n",
       "      <td>0</td>\n",
       "    </tr>\n",
       "    <tr>\n",
       "      <th>7</th>\n",
       "      <td>140693</td>\n",
       "      <td>좀비 캐릭터만큼은 역대급인 듯.. 가히 일본스러웠고, 특히 높이뛰기 좀비는 대박이었...</td>\n",
       "      <td>8</td>\n",
       "      <td>1</td>\n",
       "    </tr>\n",
       "    <tr>\n",
       "      <th>9</th>\n",
       "      <td>140693</td>\n",
       "      <td>아무리 좀비영화라지만 너무 아무 내용도 없자나</td>\n",
       "      <td>3</td>\n",
       "      <td>0</td>\n",
       "    </tr>\n",
       "  </tbody>\n",
       "</table>\n",
       "</div>"
      ],
      "text/plain": [
       "       id                                           document  score  label\n",
       "1  140693  진심 이리 쓰레기를 영화라 만들다니 무서울줄알고 쫄아서 틀었는데 이건 뭐 웃을거리도...      1      0\n",
       "2  140693  역대 좀비영화중 가장 최고다.. 원작만화 읽어보려다 영화 보고 결정하려... 감독이...     10      1\n",
       "4  140693  답답함의 극치. 움직일수 잇으면 좀 움직여라 어지간히 좀비 봣으면 그만 얼타고 때려...      1      0\n",
       "7  140693  좀비 캐릭터만큼은 역대급인 듯.. 가히 일본스러웠고, 특히 높이뛰기 좀비는 대박이었...      8      1\n",
       "9  140693                          아무리 좀비영화라지만 너무 아무 내용도 없자나      3      0"
      ]
     },
     "execution_count": 96,
     "metadata": {},
     "output_type": "execute_result"
    }
   ],
   "source": [
    "df.head()"
   ]
  },
  {
   "cell_type": "markdown",
   "metadata": {},
   "source": [
    "## 2.4 리뷰 텍스트에 존재하는 문자가 아닌 숫자 제거\n",
    "- 문자가 아닌 숫자의 경우 단어적인 의미가 부족하므로 "
   ]
  },
  {
   "cell_type": "code",
   "execution_count": 111,
   "metadata": {},
   "outputs": [],
   "source": [
    "import re\n",
    "\n",
    "df['document'] = df['document'].apply(lambda x: re.sub(r\"\\d+\", \"\", x))"
   ]
  },
  {
   "cell_type": "markdown",
   "metadata": {},
   "source": [
    "## 2.5 특수문자 제거"
   ]
  },
  {
   "cell_type": "code",
   "execution_count": 112,
   "metadata": {},
   "outputs": [],
   "source": [
    "df['document'] = df['document'].apply(lambda x: re.sub('[^ㄱ-ㅎㅏ-ㅣ가-힣 ]', \"\", x))"
   ]
  },
  {
   "cell_type": "code",
   "execution_count": 117,
   "metadata": {
    "scrolled": true
   },
   "outputs": [
    {
     "data": {
      "text/plain": [
       "1         진심 이리 쓰레기를 영화라 만들다니 무서울줄알고 쫄아서 틀었는데 이건 뭐 웃을거리도...\n",
       "2         역대 좀비영화중 가장 최고다 원작만화 읽어보려다 영화 보고 결정하려 감독이 간츠실사...\n",
       "4         답답함의 극치 움직일수 잇으면 좀 움직여라 어지간히 좀비 봣으면 그만 얼타고 때려 ...\n",
       "7         좀비 캐릭터만큼은 역대급인 듯 가히 일본스러웠고 특히 높이뛰기 좀비는 대박이었다 히...\n",
       "9                                 아무리 좀비영화라지만 너무 아무 내용도 없자나\n",
       "                                ...                        \n",
       "788184                                            지금 만나러갑니다\n",
       "788185                                   와 진짜 완전 재미있었다 ㅎㅎㅎㅎ\n",
       "788186                   무조건  아이맥스로 보세요 영상미 말도안되네요마블이 또 일냈다\n",
       "788187    아이맥스시사회다녀왔습니다 꼭 로보시는거 추천드릴께요 초반전개가 너무빠른거빼곤 괜찮네...\n",
       "788188                                            최고에요베니사랑해\n",
       "Name: document, Length: 672603, dtype: object"
      ]
     },
     "execution_count": 117,
     "metadata": {},
     "output_type": "execute_result"
    }
   ],
   "source": [
    "df['document']"
   ]
  },
  {
   "cell_type": "markdown",
   "metadata": {},
   "source": [
    "## 2.6 필요없는 칼럼 삭제\n",
    "- id 칼럼\n",
    "- score"
   ]
  },
  {
   "cell_type": "code",
   "execution_count": 119,
   "metadata": {},
   "outputs": [],
   "source": [
    "df.drop('id', axis=1, inplace=True)"
   ]
  },
  {
   "cell_type": "code",
   "execution_count": 121,
   "metadata": {},
   "outputs": [],
   "source": [
    "df.drop('score', axis=1, inplace=True)"
   ]
  },
  {
   "cell_type": "code",
   "execution_count": 122,
   "metadata": {},
   "outputs": [
    {
     "data": {
      "text/html": [
       "<div>\n",
       "<style scoped>\n",
       "    .dataframe tbody tr th:only-of-type {\n",
       "        vertical-align: middle;\n",
       "    }\n",
       "\n",
       "    .dataframe tbody tr th {\n",
       "        vertical-align: top;\n",
       "    }\n",
       "\n",
       "    .dataframe thead th {\n",
       "        text-align: right;\n",
       "    }\n",
       "</style>\n",
       "<table border=\"1\" class=\"dataframe\">\n",
       "  <thead>\n",
       "    <tr style=\"text-align: right;\">\n",
       "      <th></th>\n",
       "      <th>document</th>\n",
       "      <th>label</th>\n",
       "    </tr>\n",
       "  </thead>\n",
       "  <tbody>\n",
       "    <tr>\n",
       "      <th>1</th>\n",
       "      <td>진심 이리 쓰레기를 영화라 만들다니 무서울줄알고 쫄아서 틀었는데 이건 뭐 웃을거리도...</td>\n",
       "      <td>0</td>\n",
       "    </tr>\n",
       "    <tr>\n",
       "      <th>2</th>\n",
       "      <td>역대 좀비영화중 가장 최고다 원작만화 읽어보려다 영화 보고 결정하려 감독이 간츠실사...</td>\n",
       "      <td>1</td>\n",
       "    </tr>\n",
       "    <tr>\n",
       "      <th>4</th>\n",
       "      <td>답답함의 극치 움직일수 잇으면 좀 움직여라 어지간히 좀비 봣으면 그만 얼타고 때려 ...</td>\n",
       "      <td>0</td>\n",
       "    </tr>\n",
       "    <tr>\n",
       "      <th>7</th>\n",
       "      <td>좀비 캐릭터만큼은 역대급인 듯 가히 일본스러웠고 특히 높이뛰기 좀비는 대박이었다 히...</td>\n",
       "      <td>1</td>\n",
       "    </tr>\n",
       "    <tr>\n",
       "      <th>9</th>\n",
       "      <td>아무리 좀비영화라지만 너무 아무 내용도 없자나</td>\n",
       "      <td>0</td>\n",
       "    </tr>\n",
       "  </tbody>\n",
       "</table>\n",
       "</div>"
      ],
      "text/plain": [
       "                                            document  label\n",
       "1  진심 이리 쓰레기를 영화라 만들다니 무서울줄알고 쫄아서 틀었는데 이건 뭐 웃을거리도...      0\n",
       "2  역대 좀비영화중 가장 최고다 원작만화 읽어보려다 영화 보고 결정하려 감독이 간츠실사...      1\n",
       "4  답답함의 극치 움직일수 잇으면 좀 움직여라 어지간히 좀비 봣으면 그만 얼타고 때려 ...      0\n",
       "7  좀비 캐릭터만큼은 역대급인 듯 가히 일본스러웠고 특히 높이뛰기 좀비는 대박이었다 히...      1\n",
       "9                          아무리 좀비영화라지만 너무 아무 내용도 없자나      0"
      ]
     },
     "execution_count": 122,
     "metadata": {},
     "output_type": "execute_result"
    }
   ],
   "source": [
    "df.head()"
   ]
  },
  {
   "cell_type": "markdown",
   "metadata": {},
   "source": [
    "## 2.7 토큰화 및 불용어 제거\n",
    "- 토큰화 및 불용어 제거한 tok_document를 df에 추가\n",
    "- 기존의 document 원본 제거"
   ]
  },
  {
   "cell_type": "code",
   "execution_count": 125,
   "metadata": {},
   "outputs": [],
   "source": [
    "stopwords = ['의','가','이','은','들','는','좀','잘','걍','과','도','를','으로','자','에','와','한','하다','을','에서','해서']"
   ]
  },
  {
   "cell_type": "code",
   "execution_count": 126,
   "metadata": {},
   "outputs": [
    {
     "name": "stdout",
     "output_type": "stream",
     "text": [
      "진심 이리 쓰레기를 영화라 만들다니 무서울줄알고 쫄아서 틀었는데 이건 뭐 웃을거리도없는 쓰레기영화임\n",
      "['진심', '이리', '쓰레기', '를', '영화', '라', '만들다니', '무서울줄', '알', '고', '쫄아', '서', '틀었는데', '이건', '뭐', '웃', '을', '거리', '도', '없는', '쓰레기', '영화', '임']\n"
     ]
    }
   ],
   "source": [
    "from konlpy.tag import Okt\n",
    "\n",
    "okt = Okt()\n",
    "print(df['document'][1])\n",
    "print(okt.morphs(df['document'][1]))"
   ]
  },
  {
   "cell_type": "code",
   "execution_count": 127,
   "metadata": {},
   "outputs": [
    {
     "name": "stderr",
     "output_type": "stream",
     "text": [
      "100%|███████████████████████████████████████████████████████████████████████| 672603/672603 [1:01:37<00:00, 181.92it/s]\n"
     ]
    }
   ],
   "source": [
    "from tqdm import tqdm\n",
    "\n",
    "X_df = []\n",
    "for sentence in tqdm(df['document']):\n",
    "    tem_X = okt.morphs(sentence) # 토큰화\n",
    "    tem_X = [word for word in temp_X if not word in stopwords] # 불용어 제거\n",
    "    X_df.append(tem_X)"
   ]
  },
  {
   "cell_type": "code",
   "execution_count": 128,
   "metadata": {},
   "outputs": [],
   "source": [
    "df['tok_document'] = X_df"
   ]
  },
  {
   "cell_type": "code",
   "execution_count": 129,
   "metadata": {
    "scrolled": false
   },
   "outputs": [
    {
     "data": {
      "text/html": [
       "<div>\n",
       "<style scoped>\n",
       "    .dataframe tbody tr th:only-of-type {\n",
       "        vertical-align: middle;\n",
       "    }\n",
       "\n",
       "    .dataframe tbody tr th {\n",
       "        vertical-align: top;\n",
       "    }\n",
       "\n",
       "    .dataframe thead th {\n",
       "        text-align: right;\n",
       "    }\n",
       "</style>\n",
       "<table border=\"1\" class=\"dataframe\">\n",
       "  <thead>\n",
       "    <tr style=\"text-align: right;\">\n",
       "      <th></th>\n",
       "      <th>document</th>\n",
       "      <th>label</th>\n",
       "      <th>tok_document</th>\n",
       "    </tr>\n",
       "  </thead>\n",
       "  <tbody>\n",
       "    <tr>\n",
       "      <th>1</th>\n",
       "      <td>진심 이리 쓰레기를 영화라 만들다니 무서울줄알고 쫄아서 틀었는데 이건 뭐 웃을거리도...</td>\n",
       "      <td>0</td>\n",
       "      <td>[진심, 이리, 쓰레기, 영화, 라, 만들다니, 무서울줄, 알, 고, 쫄아, 서, ...</td>\n",
       "    </tr>\n",
       "    <tr>\n",
       "      <th>2</th>\n",
       "      <td>역대 좀비영화중 가장 최고다 원작만화 읽어보려다 영화 보고 결정하려 감독이 간츠실사...</td>\n",
       "      <td>1</td>\n",
       "      <td>[역대, 좀비, 영화, 중, 가장, 최고다, 원작, 만화, 읽어, 보려다, 영화, ...</td>\n",
       "    </tr>\n",
       "    <tr>\n",
       "      <th>4</th>\n",
       "      <td>답답함의 극치 움직일수 잇으면 좀 움직여라 어지간히 좀비 봣으면 그만 얼타고 때려 ...</td>\n",
       "      <td>0</td>\n",
       "      <td>[답답함의, 극치, 움직일수, 잇으면, 움직여라, 어지간히, 좀비, 봣으, 면, 그...</td>\n",
       "    </tr>\n",
       "    <tr>\n",
       "      <th>7</th>\n",
       "      <td>좀비 캐릭터만큼은 역대급인 듯 가히 일본스러웠고 특히 높이뛰기 좀비는 대박이었다 히...</td>\n",
       "      <td>1</td>\n",
       "      <td>[좀비, 캐릭터, 만큼은, 역대, 급, 인, 듯, 가히, 일본, 스러웠고, 특히, ...</td>\n",
       "    </tr>\n",
       "    <tr>\n",
       "      <th>9</th>\n",
       "      <td>아무리 좀비영화라지만 너무 아무 내용도 없자나</td>\n",
       "      <td>0</td>\n",
       "      <td>[아무리, 좀비, 영화, 라지, 만, 너무, 아무, 내용, 없자나]</td>\n",
       "    </tr>\n",
       "  </tbody>\n",
       "</table>\n",
       "</div>"
      ],
      "text/plain": [
       "                                            document  label  \\\n",
       "1  진심 이리 쓰레기를 영화라 만들다니 무서울줄알고 쫄아서 틀었는데 이건 뭐 웃을거리도...      0   \n",
       "2  역대 좀비영화중 가장 최고다 원작만화 읽어보려다 영화 보고 결정하려 감독이 간츠실사...      1   \n",
       "4  답답함의 극치 움직일수 잇으면 좀 움직여라 어지간히 좀비 봣으면 그만 얼타고 때려 ...      0   \n",
       "7  좀비 캐릭터만큼은 역대급인 듯 가히 일본스러웠고 특히 높이뛰기 좀비는 대박이었다 히...      1   \n",
       "9                          아무리 좀비영화라지만 너무 아무 내용도 없자나      0   \n",
       "\n",
       "                                        tok_document  \n",
       "1  [진심, 이리, 쓰레기, 영화, 라, 만들다니, 무서울줄, 알, 고, 쫄아, 서, ...  \n",
       "2  [역대, 좀비, 영화, 중, 가장, 최고다, 원작, 만화, 읽어, 보려다, 영화, ...  \n",
       "4  [답답함의, 극치, 움직일수, 잇으면, 움직여라, 어지간히, 좀비, 봣으, 면, 그...  \n",
       "7  [좀비, 캐릭터, 만큼은, 역대, 급, 인, 듯, 가히, 일본, 스러웠고, 특히, ...  \n",
       "9              [아무리, 좀비, 영화, 라지, 만, 너무, 아무, 내용, 없자나]  "
      ]
     },
     "execution_count": 129,
     "metadata": {},
     "output_type": "execute_result"
    }
   ],
   "source": [
    "df.head()"
   ]
  },
  {
   "cell_type": "code",
   "execution_count": 130,
   "metadata": {},
   "outputs": [],
   "source": [
    "df = df[['tok_document', 'label', 'document']]"
   ]
  },
  {
   "cell_type": "code",
   "execution_count": 131,
   "metadata": {
    "scrolled": true
   },
   "outputs": [
    {
     "data": {
      "text/html": [
       "<div>\n",
       "<style scoped>\n",
       "    .dataframe tbody tr th:only-of-type {\n",
       "        vertical-align: middle;\n",
       "    }\n",
       "\n",
       "    .dataframe tbody tr th {\n",
       "        vertical-align: top;\n",
       "    }\n",
       "\n",
       "    .dataframe thead th {\n",
       "        text-align: right;\n",
       "    }\n",
       "</style>\n",
       "<table border=\"1\" class=\"dataframe\">\n",
       "  <thead>\n",
       "    <tr style=\"text-align: right;\">\n",
       "      <th></th>\n",
       "      <th>tok_document</th>\n",
       "      <th>label</th>\n",
       "      <th>document</th>\n",
       "    </tr>\n",
       "  </thead>\n",
       "  <tbody>\n",
       "    <tr>\n",
       "      <th>1</th>\n",
       "      <td>[진심, 이리, 쓰레기, 영화, 라, 만들다니, 무서울줄, 알, 고, 쫄아, 서, ...</td>\n",
       "      <td>0</td>\n",
       "      <td>진심 이리 쓰레기를 영화라 만들다니 무서울줄알고 쫄아서 틀었는데 이건 뭐 웃을거리도...</td>\n",
       "    </tr>\n",
       "    <tr>\n",
       "      <th>2</th>\n",
       "      <td>[역대, 좀비, 영화, 중, 가장, 최고다, 원작, 만화, 읽어, 보려다, 영화, ...</td>\n",
       "      <td>1</td>\n",
       "      <td>역대 좀비영화중 가장 최고다 원작만화 읽어보려다 영화 보고 결정하려 감독이 간츠실사...</td>\n",
       "    </tr>\n",
       "    <tr>\n",
       "      <th>4</th>\n",
       "      <td>[답답함의, 극치, 움직일수, 잇으면, 움직여라, 어지간히, 좀비, 봣으, 면, 그...</td>\n",
       "      <td>0</td>\n",
       "      <td>답답함의 극치 움직일수 잇으면 좀 움직여라 어지간히 좀비 봣으면 그만 얼타고 때려 ...</td>\n",
       "    </tr>\n",
       "    <tr>\n",
       "      <th>7</th>\n",
       "      <td>[좀비, 캐릭터, 만큼은, 역대, 급, 인, 듯, 가히, 일본, 스러웠고, 특히, ...</td>\n",
       "      <td>1</td>\n",
       "      <td>좀비 캐릭터만큼은 역대급인 듯 가히 일본스러웠고 특히 높이뛰기 좀비는 대박이었다 히...</td>\n",
       "    </tr>\n",
       "    <tr>\n",
       "      <th>9</th>\n",
       "      <td>[아무리, 좀비, 영화, 라지, 만, 너무, 아무, 내용, 없자나]</td>\n",
       "      <td>0</td>\n",
       "      <td>아무리 좀비영화라지만 너무 아무 내용도 없자나</td>\n",
       "    </tr>\n",
       "  </tbody>\n",
       "</table>\n",
       "</div>"
      ],
      "text/plain": [
       "                                        tok_document  label  \\\n",
       "1  [진심, 이리, 쓰레기, 영화, 라, 만들다니, 무서울줄, 알, 고, 쫄아, 서, ...      0   \n",
       "2  [역대, 좀비, 영화, 중, 가장, 최고다, 원작, 만화, 읽어, 보려다, 영화, ...      1   \n",
       "4  [답답함의, 극치, 움직일수, 잇으면, 움직여라, 어지간히, 좀비, 봣으, 면, 그...      0   \n",
       "7  [좀비, 캐릭터, 만큼은, 역대, 급, 인, 듯, 가히, 일본, 스러웠고, 특히, ...      1   \n",
       "9              [아무리, 좀비, 영화, 라지, 만, 너무, 아무, 내용, 없자나]      0   \n",
       "\n",
       "                                            document  \n",
       "1  진심 이리 쓰레기를 영화라 만들다니 무서울줄알고 쫄아서 틀었는데 이건 뭐 웃을거리도...  \n",
       "2  역대 좀비영화중 가장 최고다 원작만화 읽어보려다 영화 보고 결정하려 감독이 간츠실사...  \n",
       "4  답답함의 극치 움직일수 잇으면 좀 움직여라 어지간히 좀비 봣으면 그만 얼타고 때려 ...  \n",
       "7  좀비 캐릭터만큼은 역대급인 듯 가히 일본스러웠고 특히 높이뛰기 좀비는 대박이었다 히...  \n",
       "9                          아무리 좀비영화라지만 너무 아무 내용도 없자나  "
      ]
     },
     "execution_count": 131,
     "metadata": {},
     "output_type": "execute_result"
    }
   ],
   "source": [
    "df.head()"
   ]
  },
  {
   "cell_type": "code",
   "execution_count": 132,
   "metadata": {},
   "outputs": [
    {
     "name": "stderr",
     "output_type": "stream",
     "text": [
      "C:\\Users\\gram_\\anaconda3\\envs\\min\\lib\\site-packages\\pandas\\core\\frame.py:4164: SettingWithCopyWarning: \n",
      "A value is trying to be set on a copy of a slice from a DataFrame\n",
      "\n",
      "See the caveats in the documentation: https://pandas.pydata.org/pandas-docs/stable/user_guide/indexing.html#returning-a-view-versus-a-copy\n",
      "  errors=errors,\n"
     ]
    }
   ],
   "source": [
    "df.drop('document', axis=1, inplace=True)"
   ]
  },
  {
   "cell_type": "code",
   "execution_count": 133,
   "metadata": {
    "scrolled": false
   },
   "outputs": [
    {
     "data": {
      "text/html": [
       "<div>\n",
       "<style scoped>\n",
       "    .dataframe tbody tr th:only-of-type {\n",
       "        vertical-align: middle;\n",
       "    }\n",
       "\n",
       "    .dataframe tbody tr th {\n",
       "        vertical-align: top;\n",
       "    }\n",
       "\n",
       "    .dataframe thead th {\n",
       "        text-align: right;\n",
       "    }\n",
       "</style>\n",
       "<table border=\"1\" class=\"dataframe\">\n",
       "  <thead>\n",
       "    <tr style=\"text-align: right;\">\n",
       "      <th></th>\n",
       "      <th>tok_document</th>\n",
       "      <th>label</th>\n",
       "    </tr>\n",
       "  </thead>\n",
       "  <tbody>\n",
       "    <tr>\n",
       "      <th>1</th>\n",
       "      <td>[진심, 이리, 쓰레기, 영화, 라, 만들다니, 무서울줄, 알, 고, 쫄아, 서, ...</td>\n",
       "      <td>0</td>\n",
       "    </tr>\n",
       "    <tr>\n",
       "      <th>2</th>\n",
       "      <td>[역대, 좀비, 영화, 중, 가장, 최고다, 원작, 만화, 읽어, 보려다, 영화, ...</td>\n",
       "      <td>1</td>\n",
       "    </tr>\n",
       "    <tr>\n",
       "      <th>4</th>\n",
       "      <td>[답답함의, 극치, 움직일수, 잇으면, 움직여라, 어지간히, 좀비, 봣으, 면, 그...</td>\n",
       "      <td>0</td>\n",
       "    </tr>\n",
       "    <tr>\n",
       "      <th>7</th>\n",
       "      <td>[좀비, 캐릭터, 만큼은, 역대, 급, 인, 듯, 가히, 일본, 스러웠고, 특히, ...</td>\n",
       "      <td>1</td>\n",
       "    </tr>\n",
       "    <tr>\n",
       "      <th>9</th>\n",
       "      <td>[아무리, 좀비, 영화, 라지, 만, 너무, 아무, 내용, 없자나]</td>\n",
       "      <td>0</td>\n",
       "    </tr>\n",
       "  </tbody>\n",
       "</table>\n",
       "</div>"
      ],
      "text/plain": [
       "                                        tok_document  label\n",
       "1  [진심, 이리, 쓰레기, 영화, 라, 만들다니, 무서울줄, 알, 고, 쫄아, 서, ...      0\n",
       "2  [역대, 좀비, 영화, 중, 가장, 최고다, 원작, 만화, 읽어, 보려다, 영화, ...      1\n",
       "4  [답답함의, 극치, 움직일수, 잇으면, 움직여라, 어지간히, 좀비, 봣으, 면, 그...      0\n",
       "7  [좀비, 캐릭터, 만큼은, 역대, 급, 인, 듯, 가히, 일본, 스러웠고, 특히, ...      1\n",
       "9              [아무리, 좀비, 영화, 라지, 만, 너무, 아무, 내용, 없자나]      0"
      ]
     },
     "execution_count": 133,
     "metadata": {},
     "output_type": "execute_result"
    }
   ],
   "source": [
    "df.head()"
   ]
  },
  {
   "cell_type": "markdown",
   "metadata": {},
   "source": [
    "# 3. 전처리 된 데이터 저장"
   ]
  },
  {
   "cell_type": "code",
   "execution_count": 147,
   "metadata": {},
   "outputs": [],
   "source": [
    "df.to_csv('2016_movie_processed_reviews.txt', sep = '\\t', index=False)"
   ]
  },
  {
   "cell_type": "markdown",
   "metadata": {},
   "source": [
    "# 4. 전처리 된 데이터 불러오기"
   ]
  },
  {
   "cell_type": "code",
   "execution_count": 150,
   "metadata": {},
   "outputs": [],
   "source": [
    "df_processed= pd.read_csv('2016_movie_processed_reviews.txt', delimiter='\\t', engine='python', encoding='UTF-8')"
   ]
  },
  {
   "cell_type": "code",
   "execution_count": 151,
   "metadata": {},
   "outputs": [
    {
     "data": {
      "text/html": [
       "<div>\n",
       "<style scoped>\n",
       "    .dataframe tbody tr th:only-of-type {\n",
       "        vertical-align: middle;\n",
       "    }\n",
       "\n",
       "    .dataframe tbody tr th {\n",
       "        vertical-align: top;\n",
       "    }\n",
       "\n",
       "    .dataframe thead th {\n",
       "        text-align: right;\n",
       "    }\n",
       "</style>\n",
       "<table border=\"1\" class=\"dataframe\">\n",
       "  <thead>\n",
       "    <tr style=\"text-align: right;\">\n",
       "      <th></th>\n",
       "      <th>tok_document</th>\n",
       "      <th>label</th>\n",
       "    </tr>\n",
       "  </thead>\n",
       "  <tbody>\n",
       "    <tr>\n",
       "      <th>0</th>\n",
       "      <td>['진심', '이리', '쓰레기', '영화', '라', '만들다니', '무서울줄',...</td>\n",
       "      <td>0</td>\n",
       "    </tr>\n",
       "    <tr>\n",
       "      <th>1</th>\n",
       "      <td>['역대', '좀비', '영화', '중', '가장', '최고다', '원작', '만화...</td>\n",
       "      <td>1</td>\n",
       "    </tr>\n",
       "    <tr>\n",
       "      <th>2</th>\n",
       "      <td>['답답함의', '극치', '움직일수', '잇으면', '움직여라', '어지간히', ...</td>\n",
       "      <td>0</td>\n",
       "    </tr>\n",
       "    <tr>\n",
       "      <th>3</th>\n",
       "      <td>['좀비', '캐릭터', '만큼은', '역대', '급', '인', '듯', '가히'...</td>\n",
       "      <td>1</td>\n",
       "    </tr>\n",
       "    <tr>\n",
       "      <th>4</th>\n",
       "      <td>['아무리', '좀비', '영화', '라지', '만', '너무', '아무', '내용...</td>\n",
       "      <td>0</td>\n",
       "    </tr>\n",
       "  </tbody>\n",
       "</table>\n",
       "</div>"
      ],
      "text/plain": [
       "                                        tok_document  label\n",
       "0  ['진심', '이리', '쓰레기', '영화', '라', '만들다니', '무서울줄',...      0\n",
       "1  ['역대', '좀비', '영화', '중', '가장', '최고다', '원작', '만화...      1\n",
       "2  ['답답함의', '극치', '움직일수', '잇으면', '움직여라', '어지간히', ...      0\n",
       "3  ['좀비', '캐릭터', '만큼은', '역대', '급', '인', '듯', '가히'...      1\n",
       "4  ['아무리', '좀비', '영화', '라지', '만', '너무', '아무', '내용...      0"
      ]
     },
     "execution_count": 151,
     "metadata": {},
     "output_type": "execute_result"
    }
   ],
   "source": [
    "df_processed.head()"
   ]
  },
  {
   "cell_type": "code",
   "execution_count": 152,
   "metadata": {},
   "outputs": [],
   "source": [
    "X = df_processed['tok_document']\n",
    "y = df_processed['label']"
   ]
  },
  {
   "cell_type": "markdown",
   "metadata": {},
   "source": [
    "# 5. 학습/평가 데이터 분리"
   ]
  },
  {
   "cell_type": "code",
   "execution_count": 153,
   "metadata": {},
   "outputs": [],
   "source": [
    "from sklearn.model_selection import train_test_split\n",
    "X_train, X_test, y_train, y_test = train_test_split(X, y, test_size=0.3, random_state=42)"
   ]
  },
  {
   "cell_type": "code",
   "execution_count": 154,
   "metadata": {},
   "outputs": [
    {
     "data": {
      "text/plain": [
       "\"['음악', '좋고', '서로', '꿈', '향', '해']\""
      ]
     },
     "execution_count": 154,
     "metadata": {},
     "output_type": "execute_result"
    }
   ],
   "source": [
    "X_train.iloc[0]"
   ]
  },
  {
   "cell_type": "code",
   "execution_count": 155,
   "metadata": {},
   "outputs": [
    {
     "data": {
      "text/plain": [
       "1"
      ]
     },
     "execution_count": 155,
     "metadata": {},
     "output_type": "execute_result"
    }
   ],
   "source": [
    "y_train.iloc[0]"
   ]
  },
  {
   "cell_type": "markdown",
   "metadata": {},
   "source": [
    "# 6. 불균형 클래스 확인\n",
    "- 본인이 구축한 학습데이터에 불균형 클래스 (imbalanced class) 문제가 존재한다고 생각되는 경우, 어떻게 해결할 수 있는지를 찾아보고, 해당 방법들을 시도해 보기.\n",
    "참고: https://machinelearningmastery.com/tactics-to-combat-imbalanced-classes-in-your-machine-learning-dataset/ "
   ]
  },
  {
   "cell_type": "code",
   "execution_count": 156,
   "metadata": {
    "scrolled": true
   },
   "outputs": [
    {
     "data": {
      "text/plain": [
       "1    407582\n",
       "0     63240\n",
       "Name: label, dtype: int64"
      ]
     },
     "execution_count": 156,
     "metadata": {},
     "output_type": "execute_result"
    }
   ],
   "source": [
    "y_train.value_counts()"
   ]
  },
  {
   "cell_type": "code",
   "execution_count": 213,
   "metadata": {
    "scrolled": true
   },
   "outputs": [
    {
     "name": "stdout",
     "output_type": "stream",
     "text": [
      "data distribution:\n",
      "    Total: 470822\n",
      "    1: 407582 (86.6% of total)\n",
      "    0: 63240 (13.4% of total)\n"
     ]
    }
   ],
   "source": [
    "neg, pos = np.bincount(y_train)\n",
    "total = neg + pos\n",
    "print('data distribution:\\n    Total: {}\\n    1: {} ({:.1f}% of total)\\n    0: {} ({:.1f}% of total)'.format(\n",
    "    total, pos, 100 * pos / total, neg, 100 * neg / total))"
   ]
  },
  {
   "cell_type": "markdown",
   "metadata": {},
   "source": [
    "1 이 전체 데이터에서 86.6% , 0 이 전체 데이터에서 13.4 %로 불균형 클래스가 존재한다"
   ]
  },
  {
   "cell_type": "markdown",
   "metadata": {},
   "source": [
    "# 7. 학습과 평가 작업 (불균형 클래스 존재)\n",
    "- CountVectorizer & TfidfVectorizer\n",
    "- GridSearchCV(Grid search + k-fold cross validation) 수행\n",
    "- 학습 결과 (test dataset에 대한 confusion matrix를 이용하여 계산될 수 있는 지표값들 + ROC & AUC) 리포트 & 해석하기"
   ]
  },
  {
   "cell_type": "code",
   "execution_count": 158,
   "metadata": {},
   "outputs": [],
   "source": [
    "from sklearn.linear_model import LogisticRegression\n",
    "from sklearn.model_selection import GridSearchCV\n",
    "from sklearn.pipeline import Pipeline"
   ]
  },
  {
   "cell_type": "markdown",
   "metadata": {},
   "source": [
    "## 7.1 CountVectorizer"
   ]
  },
  {
   "cell_type": "markdown",
   "metadata": {},
   "source": [
    "### 7.1.1 GridSearchCv 수행"
   ]
  },
  {
   "cell_type": "code",
   "execution_count": 159,
   "metadata": {},
   "outputs": [],
   "source": [
    "from sklearn.feature_extraction.text import CountVectorizer"
   ]
  },
  {
   "cell_type": "code",
   "execution_count": 13,
   "metadata": {
    "scrolled": true
   },
   "outputs": [
    {
     "name": "stdout",
     "output_type": "stream",
     "text": [
      "Fitting 3 folds for each of 12 candidates, totalling 36 fits\n",
      "[CV] END Ct_vect__min_df=1, Ct_vect__ngram_range=(1, 1), lr_clf__C=0.1; total time=  35.5s\n",
      "[CV] END Ct_vect__min_df=1, Ct_vect__ngram_range=(1, 1), lr_clf__C=0.1; total time=  33.3s\n",
      "[CV] END Ct_vect__min_df=1, Ct_vect__ngram_range=(1, 1), lr_clf__C=0.1; total time=  37.3s\n",
      "[CV] END Ct_vect__min_df=1, Ct_vect__ngram_range=(1, 1), lr_clf__C=1; total time=  37.7s\n",
      "[CV] END Ct_vect__min_df=1, Ct_vect__ngram_range=(1, 1), lr_clf__C=1; total time=  41.8s\n",
      "[CV] END Ct_vect__min_df=1, Ct_vect__ngram_range=(1, 1), lr_clf__C=1; total time=  35.5s\n",
      "[CV] END Ct_vect__min_df=1, Ct_vect__ngram_range=(1, 1), lr_clf__C=5; total time=  37.3s\n",
      "[CV] END Ct_vect__min_df=1, Ct_vect__ngram_range=(1, 1), lr_clf__C=5; total time=  41.6s\n",
      "[CV] END Ct_vect__min_df=1, Ct_vect__ngram_range=(1, 1), lr_clf__C=5; total time=  35.9s\n",
      "[CV] END Ct_vect__min_df=1, Ct_vect__ngram_range=(1, 2), lr_clf__C=0.1; total time= 1.3min\n",
      "[CV] END Ct_vect__min_df=1, Ct_vect__ngram_range=(1, 2), lr_clf__C=0.1; total time= 1.3min\n",
      "[CV] END Ct_vect__min_df=1, Ct_vect__ngram_range=(1, 2), lr_clf__C=0.1; total time= 1.2min\n",
      "[CV] END Ct_vect__min_df=1, Ct_vect__ngram_range=(1, 2), lr_clf__C=1; total time= 1.2min\n",
      "[CV] END Ct_vect__min_df=1, Ct_vect__ngram_range=(1, 2), lr_clf__C=1; total time= 1.2min\n",
      "[CV] END Ct_vect__min_df=1, Ct_vect__ngram_range=(1, 2), lr_clf__C=1; total time= 1.3min\n",
      "[CV] END Ct_vect__min_df=1, Ct_vect__ngram_range=(1, 2), lr_clf__C=5; total time= 1.3min\n",
      "[CV] END Ct_vect__min_df=1, Ct_vect__ngram_range=(1, 2), lr_clf__C=5; total time= 1.2min\n",
      "[CV] END Ct_vect__min_df=1, Ct_vect__ngram_range=(1, 2), lr_clf__C=5; total time= 1.3min\n",
      "[CV] END Ct_vect__min_df=3, Ct_vect__ngram_range=(1, 1), lr_clf__C=0.1; total time=  32.2s\n",
      "[CV] END Ct_vect__min_df=3, Ct_vect__ngram_range=(1, 1), lr_clf__C=0.1; total time=  34.8s\n",
      "[CV] END Ct_vect__min_df=3, Ct_vect__ngram_range=(1, 1), lr_clf__C=0.1; total time=  31.9s\n",
      "[CV] END Ct_vect__min_df=3, Ct_vect__ngram_range=(1, 1), lr_clf__C=1; total time=  33.4s\n",
      "[CV] END Ct_vect__min_df=3, Ct_vect__ngram_range=(1, 1), lr_clf__C=1; total time=  31.6s\n",
      "[CV] END Ct_vect__min_df=3, Ct_vect__ngram_range=(1, 1), lr_clf__C=1; total time=  33.5s\n",
      "[CV] END Ct_vect__min_df=3, Ct_vect__ngram_range=(1, 1), lr_clf__C=5; total time=  35.9s\n",
      "[CV] END Ct_vect__min_df=3, Ct_vect__ngram_range=(1, 1), lr_clf__C=5; total time=  32.5s\n",
      "[CV] END Ct_vect__min_df=3, Ct_vect__ngram_range=(1, 1), lr_clf__C=5; total time=  32.5s\n",
      "[CV] END Ct_vect__min_df=3, Ct_vect__ngram_range=(1, 2), lr_clf__C=0.1; total time=  49.6s\n",
      "[CV] END Ct_vect__min_df=3, Ct_vect__ngram_range=(1, 2), lr_clf__C=0.1; total time=  49.9s\n",
      "[CV] END Ct_vect__min_df=3, Ct_vect__ngram_range=(1, 2), lr_clf__C=0.1; total time=  49.4s\n",
      "[CV] END Ct_vect__min_df=3, Ct_vect__ngram_range=(1, 2), lr_clf__C=1; total time=  49.6s\n",
      "[CV] END Ct_vect__min_df=3, Ct_vect__ngram_range=(1, 2), lr_clf__C=1; total time= 1.1min\n",
      "[CV] END Ct_vect__min_df=3, Ct_vect__ngram_range=(1, 2), lr_clf__C=1; total time=  53.5s\n",
      "[CV] END Ct_vect__min_df=3, Ct_vect__ngram_range=(1, 2), lr_clf__C=5; total time=  50.5s\n",
      "[CV] END Ct_vect__min_df=3, Ct_vect__ngram_range=(1, 2), lr_clf__C=5; total time=  49.2s\n",
      "[CV] END Ct_vect__min_df=3, Ct_vect__ngram_range=(1, 2), lr_clf__C=5; total time=  49.4s\n",
      "{'Ct_vect__min_df': 1, 'Ct_vect__ngram_range': (1, 1), 'lr_clf__C': 5} 0.9268407265316085\n"
     ]
    },
    {
     "name": "stderr",
     "output_type": "stream",
     "text": [
      "C:\\Users\\gram_\\anaconda3\\envs\\min\\lib\\site-packages\\sklearn\\linear_model\\_sag.py:329: ConvergenceWarning: The max_iter was reached which means the coef_ did not converge\n",
      "  \"the coef_ did not converge\", ConvergenceWarning)\n"
     ]
    }
   ],
   "source": [
    "pipeline1 = Pipeline([\n",
    "    ('Ct_vect', CountVectorizer()),\n",
    "    ('lr_clf', LogisticRegression(solver='saga', max_iter = 100, n_jobs=-1))\n",
    "])\n",
    "\n",
    "params1 = {'Ct_vect__ngram_range' : [(1,1), (1,2)],\n",
    "         'Ct_vect__min_df': [1, 3],\n",
    "         'lr_clf__C' : [0.1, 1, 5]\n",
    "}\n",
    "\n",
    "grid_cv_pipe1 = GridSearchCV(pipeline1, param_grid=params1, cv=3, scoring='accuracy', verbose=2)\n",
    "grid_cv_pipe1.fit(X_train, y_train)\n",
    "print(grid_cv_pipe1.best_params_, grid_cv_pipe1.best_score_)"
   ]
  },
  {
   "cell_type": "markdown",
   "metadata": {},
   "source": [
    "### 7.1.2 그리드서치로 구한 hyper parameter 적용해서 다양한 지표값 확인\n",
    "- {'Ct_vect__min_df': 1, 'Ct_vect__ngram_range': (1, 1), 'lr_clf__C': 5} \n",
    "- 학습 결과 (test dataset에 대한 confusion matrix를 이용하여 계산될 수 있는 지표값들 + ROC & AUC) 리포트 & 해석하기"
   ]
  },
  {
   "cell_type": "code",
   "execution_count": 160,
   "metadata": {},
   "outputs": [],
   "source": [
    "ct_vectorizer = CountVectorizer(min_df=1, ngram_range=(1,1)) \n",
    "ct_train_features = ct_vectorizer.fit_transform(X_train) \n",
    "ct_test_features = ct_vectorizer.transform(X_test)"
   ]
  },
  {
   "cell_type": "code",
   "execution_count": 161,
   "metadata": {},
   "outputs": [
    {
     "data": {
      "text/plain": [
       "{'음악': 115709,\n",
       " '좋고': 134014,\n",
       " '서로': 83040,\n",
       " '솔직히': 85861,\n",
       " '시작': 89127,\n",
       " '하고': 157504,\n",
       " '자다가': 122687,\n",
       " '일어나니': 119417,\n",
       " '비행': 76355,\n",
       " '기안': 15936,\n",
       " '현실': 164182,\n",
       " '오거': 108285,\n",
       " '폭포': 155740,\n",
       " '싸우고': 92108,\n",
       " '잇엇다': 120922,\n",
       " '공감': 10374,\n",
       " '눌러라': 30126,\n",
       " '이런': 116760,\n",
       " '없네': 104944,\n",
       " '쓰레기': 93700,\n",
       " '같은': 6182,\n",
       " '장면': 125785,\n",
       " '내용': 26273,\n",
       " '집합': 141143,\n",
       " '영화': 107859,\n",
       " '갈등': 4064,\n",
       " '이유': 118317,\n",
       " '확실했고': 165305,\n",
       " '스토리': 87816,\n",
       " '괜찮다': 10974,\n",
       " '그리고': 14062,\n",
       " '제일': 132103,\n",
       " '좋은': 135101,\n",
       " '영웅': 107794,\n",
       " '많이': 52169,\n",
       " '나왔다는거': 22978,\n",
       " '런던': 48322,\n",
       " '일어난': 119462,\n",
       " '테러': 152358,\n",
       " '잔악': 123681,\n",
       " '느낄수': 30789,\n",
       " '있었지만': 121996,\n",
       " '수없이': 86215,\n",
       " '많은': 52074,\n",
       " '테러리스트': 152359,\n",
       " '잠입': 125185,\n",
       " '있었는지': 121829,\n",
       " '영국': 107712,\n",
       " '보안': 69469,\n",
       " '시스템': 88891,\n",
       " '의문': 115910,\n",
       " '갑니다': 4859,\n",
       " '재미': 126097,\n",
       " '감동': 4382,\n",
       " '모두': 56592,\n",
       " '특이하고': 153356,\n",
       " '재미있게': 126482,\n",
       " '봤음': 72382,\n",
       " '관객수': 10673,\n",
       " '적은지': 130491,\n",
       " '이해': 118580,\n",
       " '안됨': 97644,\n",
       " '시간': 88568,\n",
       " '가는줄': 1912,\n",
       " '모르고': 56774,\n",
       " '한국': 159326,\n",
       " '좀비': 133619,\n",
       " '로는': 48607,\n",
       " '최고': 147108,\n",
       " '에요': 106131,\n",
       " '이영화': 118277,\n",
       " '보고': 67604,\n",
       " '받았거나': 64125,\n",
       " '아름답다고': 95888,\n",
       " '생각': 82310,\n",
       " '한다면': 159415,\n",
       " '김치': 16803,\n",
       " '인증': 119022,\n",
       " '보세요': 69179,\n",
       " '이건': 116087,\n",
       " '정말': 131556,\n",
       " '야하는': 101498,\n",
       " '입니다': 120393,\n",
       " 'ㅜㅜ': 1324,\n",
       " '한국영': 159331,\n",
       " '화보': 165046,\n",
       " '면서': 56317,\n",
       " '웃은': 113523,\n",
       " '드물었는데이': 42367,\n",
       " 'ㅋㅋㅋ': 783,\n",
       " '너무': 26620,\n",
       " '무재': 59145,\n",
       " '밋게잘봣': 61985,\n",
       " '재미있고': 126513,\n",
       " '의미': 115914,\n",
       " '있게': 121049,\n",
       " '봤어요': 72270,\n",
       " '전쟁': 130954,\n",
       " '남한': 24978,\n",
       " '북한': 73801,\n",
       " '침략': 148848,\n",
       " '했다는': 162505,\n",
       " '종북': 133819,\n",
       " '좌파': 135255,\n",
       " '주사파': 135726,\n",
       " '소설': 85266,\n",
       " '반대': 63620,\n",
       " '하는': 157915,\n",
       " '사실': 79661,\n",
       " '담은': 34656,\n",
       " '분명': 73913,\n",
       " '남침': 24965,\n",
       " '올바른': 109745,\n",
       " '만들어졌으면': 51006,\n",
       " '좋겠어요': 133995,\n",
       " '공유': 10474,\n",
       " '잘생기고': 124619,\n",
       " '마동석': 49478,\n",
       " '귀여워요': 12884,\n",
       " '연기자': 106972,\n",
       " '기을': 16088,\n",
       " '하셔서': 158528,\n",
       " '잼나게': 128841,\n",
       " '봤습니다': 72235,\n",
       " '평생': 155324,\n",
       " '기립': 15759,\n",
       " '박수': 63243,\n",
       " '불러일으킨': 74351,\n",
       " '영화평론가': 107920,\n",
       " '보긴': 68203,\n",
       " '했음': 162865,\n",
       " '은퇴': 115543,\n",
       " '대단': 35438,\n",
       " '하십니다': 158796,\n",
       " '오랜': 108605,\n",
       " '뭉클한': 60148,\n",
       " '였습니다': 107619,\n",
       " '환타': 165400,\n",
       " '스틱': 87889,\n",
       " '재밌네요': 127765,\n",
       " '훌륭합니다': 166230,\n",
       " '블랙': 75447,\n",
       " '팬서': 154459,\n",
       " '스파이더맨': 87902,\n",
       " '나오는게': 22367,\n",
       " '좋았는데': 134832,\n",
       " '런가': 48315,\n",
       " '발암': 64554,\n",
       " '확실히': 165312,\n",
       " '액션': 101222,\n",
       " '클라스': 150657,\n",
       " '다르네요': 32647,\n",
       " '봤는데': 72017,\n",
       " '생생하고': 82705,\n",
       " '직임': 140175,\n",
       " '많아요': 51853,\n",
       " '할리퀸': 159905,\n",
       " '메날': 56075,\n",
       " '캐리': 149164,\n",
       " '도르': 37706,\n",
       " '마무': 49589,\n",
       " '받아라': 64057,\n",
       " '화판': 165130,\n",
       " '에도': 106006,\n",
       " '간첩': 3922,\n",
       " '많냐': 51762,\n",
       " '전반': 130878,\n",
       " '흐르는': 166698,\n",
       " '메세지': 56128,\n",
       " '묵직해서': 59335,\n",
       " '좋네': 134064,\n",
       " '슈퍼': 87196,\n",
       " '피넛츠': 156872,\n",
       " '십자': 91547,\n",
       " '윈터': 114406,\n",
       " '솔져': 85814,\n",
       " '보다는': 68729,\n",
       " '연출': 107091,\n",
       " '떨어짐': 46516,\n",
       " 'ㅋㅋ': 764,\n",
       " '그래도': 13254,\n",
       " '잼있었음': 129483,\n",
       " '기대는': 15268,\n",
       " '하지마': 159021,\n",
       " '세용': 84682,\n",
       " '캡틴': 149287,\n",
       " '아메': 95991,\n",
       " '리키': 49299,\n",
       " '인데': 118834,\n",
       " '주인공': 135916,\n",
       " '아니구': 94997,\n",
       " '스피이더맨': 87975,\n",
       " '앤트맨': 101303,\n",
       " '마지막': 49876,\n",
       " '반전': 63692,\n",
       " '있었음': 121988,\n",
       " '하나': 157844,\n",
       " '얽히고': 104514,\n",
       " '얽혀': 104505,\n",
       " '싸우다가': 92187,\n",
       " '풀어지는': 156301,\n",
       " '진짜': 140618,\n",
       " '보면서': 69118,\n",
       " '모를': 56923,\n",
       " '느낌': 30854,\n",
       " '풋풋하고': 156446,\n",
       " '설레이고': 83731,\n",
       " '재밌음': 128442,\n",
       " '근데': 14500,\n",
       " '부분': 73100,\n",
       " '아쉬웠음': 96265,\n",
       " '욕심': 111369,\n",
       " '부린': 73078,\n",
       " '늘어지다가': 31484,\n",
       " '남주': 24906,\n",
       " '변한': 67281,\n",
       " '모습': 56998,\n",
       " '진국': 140228,\n",
       " '깊습니다': 16939,\n",
       " 'ㅎㅎㅎ': 999,\n",
       " '보고왔습니다': 68014,\n",
       " '감사해요': 4530,\n",
       " '재밌다니': 127907,\n",
       " '분지나니까': 74074,\n",
       " '졸렵': 133265,\n",
       " '분지': 74073,\n",
       " '나고': 21164,\n",
       " '나선': 21920,\n",
       " '끝나나': 20261,\n",
       " '밖에': 63513,\n",
       " '이후': 118617,\n",
       " '에는': 105995,\n",
       " '잤다': 125654,\n",
       " '없이': 105752,\n",
       " '봤다가': 72078,\n",
       " '본지': 70915,\n",
       " '지났는데도': 138485,\n",
       " '닥터스': 33351,\n",
       " '트레인': 153148,\n",
       " '검색': 8400,\n",
       " '보는': 68492,\n",
       " '네네': 27823,\n",
       " '있었어요': 121945,\n",
       " '배우': 65263,\n",
       " '역시': 106789,\n",
       " '호화': 164509,\n",
       " '캐스팅': 149198,\n",
       " '이네요': 116444,\n",
       " '주변': 135718,\n",
       " '추천': 147487,\n",
       " '드리고': 42223,\n",
       " '싶은': 91956,\n",
       " 'ㅎㅎ': 978,\n",
       " '그냥': 13183,\n",
       " '그래요': 13277,\n",
       " '만은': 51423,\n",
       " '같아요': 6054,\n",
       " '유쾌하다는': 115083,\n",
       " '어울리는': 103429,\n",
       " '영화인': 107905,\n",
       " '개꾸르잼굇': 6451,\n",
       " '기승': 15929,\n",
       " '전결': 130786,\n",
       " '지루할': 138996,\n",
       " '유승호': 114689,\n",
       " '코믹': 149916,\n",
       " '연기': 106964,\n",
       " '하네요': 157886,\n",
       " '미모': 60654,\n",
       " '긴장감': 16294,\n",
       " '내내': 25703,\n",
       " '덜덜': 37050,\n",
       " '스타일': 87740,\n",
       " '스릴러': 87467,\n",
       " '좋다': 134076,\n",
       " '우리나라': 111767,\n",
       " '국민': 11928,\n",
       " '봤으면': 72330,\n",
       " '전염': 130919,\n",
       " '속도': 85516,\n",
       " '대한': 36071,\n",
       " '개연': 6771,\n",
       " '부족하고': 73456,\n",
       " '감염': 4637,\n",
       " '불규칙한': 74260,\n",
       " '제외': 132089,\n",
       " '하면': 158472,\n",
       " '나름': 21613,\n",
       " '괜찮았던': 11092,\n",
       " '총기': 147044,\n",
       " '무기': 58165,\n",
       " '상대': 81758,\n",
       " '하지': 159008,\n",
       " '않다': 98795,\n",
       " '보니': 68683,\n",
       " '서양': 83126,\n",
       " '비해': 76353,\n",
       " '답답한건': 34765,\n",
       " '이나': 116424,\n",
       " '수준': 86277,\n",
       " '이라': 116546,\n",
       " '대박': 35747,\n",
       " '재밌다': 127835,\n",
       " '정도': 131515,\n",
       " '아닌데': 95427,\n",
       " '결말': 9048,\n",
       " '그나저나': 13177,\n",
       " '김태리': 16812,\n",
       " '이쁘당': 117476,\n",
       " '좋아서': 134212,\n",
       " '인지': 119025,\n",
       " '몰입도': 57752,\n",
       " '높고': 28982,\n",
       " '개인': 6828,\n",
       " '만족합니다': 51598,\n",
       " '좋았을걸': 134999,\n",
       " '이란': 116592,\n",
       " '이렇게': 116863,\n",
       " '발전': 64570,\n",
       " '한지': 159695,\n",
       " '몰랐음': 57568,\n",
       " '역사': 106764,\n",
       " '영토': 107847,\n",
       " '시각': 88563,\n",
       " '넓혀줘서': 26885,\n",
       " '좋았음': 135020,\n",
       " '어밴저스': 102909,\n",
       " '없었는데': 105514,\n",
       " '캡틴아메리카': 149291,\n",
       " '편모': 154869,\n",
       " '인물': 118876,\n",
       " '사소한': 79638,\n",
       " '행동': 162908,\n",
       " '복선': 70509,\n",
       " '알았더니': 100248,\n",
       " '그것': 13169,\n",
       " '아니였고': 95269,\n",
       " '후반': 165898,\n",
       " '제목': 132046,\n",
       " '따라': 44698,\n",
       " '그대로': 13216,\n",
       " '아수라': 96071,\n",
       " '장이': 125875,\n",
       " '찍어낸': 143462,\n",
       " '감독': 4373,\n",
       " '머리': 54558,\n",
       " '조씨': 132595,\n",
       " '뱅뱅': 65712,\n",
       " '맞게': 53339,\n",
       " '지으셔서': 139634,\n",
       " '드려요': 42169,\n",
       " '재밌습니다': 128053,\n",
       " '있내요': 121259,\n",
       " '중간': 137111,\n",
       " '미흡하여': 61329,\n",
       " '집중': 141124,\n",
       " '떨어지지만': 46466,\n",
       " '뮤지컬': 60436,\n",
       " '출실한': 147696,\n",
       " '한편': 159725,\n",
       " '보았내요': 69521,\n",
       " '가볍게': 2606,\n",
       " '보기': 68167,\n",
       " '좋음': 135166,\n",
       " '히어로': 167833,\n",
       " '싫어하고': 90853,\n",
       " '악당': 97010,\n",
       " '그런거': 13603,\n",
       " '혹평': 164535,\n",
       " 'ㅠㅠ': 1423,\n",
       " '방학': 65062,\n",
       " '아이': 96540,\n",
       " '에게': 105959,\n",
       " '추억': 147397,\n",
       " '된것': 40673,\n",
       " '대안': 35897,\n",
       " '재밌어서': 128076,\n",
       " '몰랐습니다': 57535,\n",
       " '정체': 131821,\n",
       " '없는': 104973,\n",
       " '이다': 116484,\n",
       " '미었습니다': 60896,\n",
       " '좋아': 134191,\n",
       " '재미있었어요': 126903,\n",
       " '무거운': 58048,\n",
       " '있는게': 121372,\n",
       " '아니고': 94980,\n",
       " '강동원': 5206,\n",
       " '깨알': 17899,\n",
       " '여친': 106677,\n",
       " '이랑': 116596,\n",
       " '데이트': 37505,\n",
       " '영화로': 107873,\n",
       " '좋아요': 134237,\n",
       " '아무': 96002,\n",
       " '국뽕': 11948,\n",
       " '감성': 4562,\n",
       " '팔이': 154297,\n",
       " '이네': 116443,\n",
       " '제의': 132093,\n",
       " '명량': 56400,\n",
       " '이라도': 116574,\n",
       " '꿈꿨냐': 19447,\n",
       " '리암': 49245,\n",
       " '니슨': 31869,\n",
       " '아깝다': 94688,\n",
       " 'ㅉㅉ': 682,\n",
       " '부로': 72934,\n",
       " '수록': 86100,\n",
       " '재미있어요': 126749,\n",
       " '아침': 96689,\n",
       " '부터': 73703,\n",
       " '재밌게': 127646,\n",
       " '조정석': 132853,\n",
       " '좋은대': 135108,\n",
       " '시나리오': 88690,\n",
       " '어처구니': 103852,\n",
       " '없어요': 105379,\n",
       " '영화제작사': 107911,\n",
       " '부탁': 73689,\n",
       " '인대': 118828,\n",
       " '제발': 132058,\n",
       " '만드실거면': 50570,\n",
       " '영화제작': 107910,\n",
       " '코메디': 149905,\n",
       " '아닌': 95364,\n",
       " '드라마영화': 41929,\n",
       " '제작': 132117,\n",
       " '해주시면': 161790,\n",
       " '좋을거': 135122,\n",
       " '같습니다': 6023,\n",
       " '요즘': 111258,\n",
       " '제대로': 132020,\n",
       " '못잤는데': 57927,\n",
       " '보다': 68707,\n",
       " '잠들었습니다': 125098,\n",
       " '졸피뎀같': 133554,\n",
       " '감사': 4421,\n",
       " '드립니다': 42316,\n",
       " '예고편': 107958,\n",
       " '보면': 69110,\n",
       " '였네요': 107483,\n",
       " '기대': 15260,\n",
       " '이상': 117564,\n",
       " '귀신': 12811,\n",
       " '뭔가': 60373,\n",
       " '귀여운것': 12852,\n",
       " '예쁜': 108143,\n",
       " '상미': 81786,\n",
       " '에바': 106046,\n",
       " '그린': 14203,\n",
       " '개존잼': 6900,\n",
       " '제임스맥어보이': 132107,\n",
       " '멋있어': 55546,\n",
       " '미치겠다': 61198,\n",
       " '믿고': 61544,\n",
       " '마블': 49612,\n",
       " '살린': 80615,\n",
       " '아녔음': 94888,\n",
       " '재미없었다': 126353,\n",
       " '처음': 146033,\n",
       " '까지': 17295,\n",
       " '쫄깃쫄깃': 142842,\n",
       " '다른': 32705,\n",
       " '에선': 106094,\n",
       " '스릴': 87464,\n",
       " '넘치는': 27506,\n",
       " '찾으라': 145520,\n",
       " '하지만': 159023,\n",
       " '에서는': 106078,\n",
       " '느끼는': 30628,\n",
       " '찾는게': 145169,\n",
       " '빠를수도': 76860,\n",
       " '괜찮았어요': 11110,\n",
       " '연극배우': 106960,\n",
       " '담담하게': 34474,\n",
       " '표현': 155841,\n",
       " '했고': 162364,\n",
       " '짜임': 141821,\n",
       " '좋았어요': 134952,\n",
       " '상류층': 81776,\n",
       " '허영': 163488,\n",
       " '타락': 151122,\n",
       " '보여줌으로': 69937,\n",
       " '풍자': 156583,\n",
       " '작품': 123623,\n",
       " '같다': 5901,\n",
       " '물품': 60028,\n",
       " '영상': 107759,\n",
       " '미도': 60594,\n",
       " '좋았다': 134840,\n",
       " '재미없음': 126451,\n",
       " '정말로': 131557,\n",
       " '무섭다': 58849,\n",
       " '사고': 78948,\n",
       " '나면': 21640,\n",
       " '정부': 131605,\n",
       " '어떻게': 102385,\n",
       " '할지': 160134,\n",
       " '예측': 108237,\n",
       " '된다': 40705,\n",
       " '실제': 90637,\n",
       " '터져도': 152036,\n",
       " '숨기기에': 86629,\n",
       " '급할꺼': 14825,\n",
       " '같아': 6027,\n",
       " '좋아하네요': 134381,\n",
       " '잊고': 122262,\n",
       " '아픔': 96965,\n",
       " '다시': 32931,\n",
       " '가슴': 2843,\n",
       " '눈앞': 30086,\n",
       " '어지러웠습니다': 103692,\n",
       " '판단': 154100,\n",
       " '할수': 159948,\n",
       " '입니': 120385,\n",
       " '다그': 32111,\n",
       " '있었기에': 121798,\n",
       " '우리': 111766,\n",
       " '풍족하게': 156587,\n",
       " '살아가는거고': 80758,\n",
       " '한번': 159520,\n",
       " '고마움': 9692,\n",
       " '느끼게': 30573,\n",
       " '해주네요': 161676,\n",
       " '유치한듯': 114952,\n",
       " '아닌듯': 95443,\n",
       " '경계': 9166,\n",
       " '아슬아슬': 96383,\n",
       " '넘나': 27016,\n",
       " '드는': 41885,\n",
       " '몰입': 57751,\n",
       " '떨어지는': 46415,\n",
       " '봤다': 72077,\n",
       " '제이': 132094,\n",
       " '빠지니까': 77195,\n",
       " '온전': 109289,\n",
       " '스타트렉': 87750,\n",
       " '으로도': 115359,\n",
       " '그렇게': 13786,\n",
       " '빠져주시길': 77105,\n",
       " '적절한': 130691,\n",
       " '마무리': 49590,\n",
       " 'ㅋㅋㅋㅋ': 792,\n",
       " '노잼': 28261,\n",
       " '보러': 68864,\n",
       " '갔다가': 5039,\n",
       " '완전': 110364,\n",
       " '보고왔어요': 68017,\n",
       " '초등학생': 146812,\n",
       " '신나게': 89819,\n",
       " '봤더니': 72177,\n",
       " '자기': 122614,\n",
       " '매직': 54199,\n",
       " '브러시': 75356,\n",
       " '가지': 3296,\n",
       " '싶다는': 91726,\n",
       " '꼬맹이': 18504,\n",
       " '착한': 144467,\n",
       " '준다고는': 136739,\n",
       " '했는데': 162431,\n",
       " 'ㅠㅠㅋㅋ': 1431,\n",
       " '재밌어요': 128092,\n",
       " '만들었네요': 51177,\n",
       " '사람': 79284,\n",
       " '보는지': 68675,\n",
       " '알수': 99894,\n",
       " '있다': 121441,\n",
       " '황정민': 165575,\n",
       " '박스': 63256,\n",
       " '인상': 118903,\n",
       " '깊었어요': 16999,\n",
       " '함께': 160190,\n",
       " '유쾌하고': 115065,\n",
       " '재미나': 126099,\n",
       " '해피엔딩': 162081,\n",
       " '기분': 15842,\n",
       " '평점': 155397,\n",
       " '높아요': 29050,\n",
       " '진심': 140432,\n",
       " '코난': 149874,\n",
       " '광팬': 10853,\n",
       " '으로서': 115367,\n",
       " '엄청': 104603,\n",
       " '낚시': 23461,\n",
       " '당했습니다': 35172,\n",
       " '검은': 8409,\n",
       " '조직': 132888,\n",
       " '부수': 73167,\n",
       " '폭탄': 155734,\n",
       " '해체': 162045,\n",
       " '끝나요': 20347,\n",
       " '별거': 67368,\n",
       " '잔뜩': 123667,\n",
       " '추리': 147335,\n",
       " '나오고': 22212,\n",
       " '떡밥': 46169,\n",
       " '풀리고': 156091,\n",
       " '지루했습니다': 139185,\n",
       " '이지': 118454,\n",
       " '마세요': 49649,\n",
       " '유치하고': 114867,\n",
       " '뻔하디': 78102,\n",
       " '뻔한': 78127,\n",
       " '얘기': 102032,\n",
       " '였지만': 107698,\n",
       " '남자배우': 24853,\n",
       " '얼굴': 104334,\n",
       " '다빈치코드': 32892,\n",
       " '암호': 100508,\n",
       " '풀어나가면서': 156199,\n",
       " '잇고': 120734,\n",
       " '어차피': 103848,\n",
       " '지만': 139374,\n",
       " '잼남': 128943,\n",
       " '은근': 115467,\n",
       " '공부': 10435,\n",
       " '되는': 39882,\n",
       " '보고온': 67936,\n",
       " '따지고': 45113,\n",
       " '아니다': 95046,\n",
       " '훌륭했다': 166256,\n",
       " '통수': 152654,\n",
       " '치네': 148198,\n",
       " '꿀잼': 19242,\n",
       " '좋았고': 134795,\n",
       " '분위기': 73999,\n",
       " '있는': 121299,\n",
       " '있었구요': 121794,\n",
       " '이었습니다': 118179,\n",
       " '지루하지': 138919,\n",
       " '않고': 98616,\n",
       " '재밌었어요': 128297,\n",
       " '순수한': 86457,\n",
       " '이야기': 117851,\n",
       " '마음': 49789,\n",
       " '든다': 42503,\n",
       " '명품': 56505,\n",
       " '능청': 31733,\n",
       " '스러운': 87311,\n",
       " '아주': 96630,\n",
       " '끝날': 20412,\n",
       " '눈물': 29933,\n",
       " '멈추지': 55343,\n",
       " '않았다': 99020,\n",
       " '다소': 32906,\n",
       " '충격': 147820,\n",
       " '이었어요': 118189,\n",
       " '다음': 33066,\n",
       " '만들어주세요': 51036,\n",
       " '단연': 33613,\n",
       " '진짜루': 140621,\n",
       " '생일': 82782,\n",
       " '기념': 14989,\n",
       " '휴가': 166554,\n",
       " '주자': 135920,\n",
       " '조조': 132870,\n",
       " '왔는데': 110550,\n",
       " '아까웠음': 94656,\n",
       " '제작비': 132118,\n",
       " '들여서': 43678,\n",
       " '만든': 50581,\n",
       " '망작': 53047,\n",
       " '바스': 63026,\n",
       " '매력': 54124,\n",
       " '적임': 130650,\n",
       " '적이였어요': 130597,\n",
       " '공효진': 10569,\n",
       " '갑이였다': 4907,\n",
       " 'ㅠㅠㅠ': 1443,\n",
       " '속이는': 85605,\n",
       " '짜릿합니다': 141715,\n",
       " '무서운': 58545,\n",
       " '매년': 54069,\n",
       " '나왔으면': 23060,\n",
       " '좋겠다': 133956,\n",
       " '평타': 155418,\n",
       " '덕분': 36855,\n",
       " '실컷': 90656,\n",
       " '웃고': 113043,\n",
       " '가요': 3012,\n",
       " '보게': 67524,\n",
       " '되서': 40186,\n",
       " '좋았습니다': 134934,\n",
       " '감사합니다': 4501,\n",
       " '엑스맨': 106198,\n",
       " '프리퀄': 156718,\n",
       " '걸작': 8357,\n",
       " '봐서': 71541,\n",
       " '걱정': 7709,\n",
       " '괜찮았음': 11138,\n",
       " '주고싶네': 135441,\n",
       " '슬프게': 88231,\n",
       " '인생': 118918,\n",
       " '손꼽을만한': 85677,\n",
       " '주연': 135881,\n",
       " '조연': 132699,\n",
       " '쓰는': 93555,\n",
       " '개그': 6416,\n",
       " '녹아있으면서': 28380,\n",
       " '무겁게': 58105,\n",
       " '잘만': 124248,\n",
       " '거부': 7412,\n",
       " '있었는데': 121822,\n",
       " '뺄건': 77877,\n",
       " '빼고': 77672,\n",
       " '군더더기': 12028,\n",
       " '만드니': 50509,\n",
       " '깔끔하고': 17487,\n",
       " '스톡홀름': 87827,\n",
       " '증후군': 138083,\n",
       " '이라는': 116563,\n",
       " '이런거군': 116763,\n",
       " '놓치면서': 29511,\n",
       " '하러': 158353,\n",
       " '보나': 68227,\n",
       " '엠마': 106291,\n",
       " '스톤': 87828,\n",
       " '검은색': 8411,\n",
       " '벤츠': 67145,\n",
       " '내린': 26072,\n",
       " '무너져': 58176,\n",
       " '내렸지만': 26009,\n",
       " '올해': 109785,\n",
       " '부산': 73110,\n",
       " '이제': 118413,\n",
       " '케텍스': 149745,\n",
       " '타긴': 151071,\n",
       " '글렀음': 14591,\n",
       " '병맛': 67465,\n",
       " '잼이였어요': 129237,\n",
       " '완존': 110418,\n",
       " '무슨': 58986,\n",
       " '사보': 79567,\n",
       " '간지': 3873,\n",
       " '허진호': 163561,\n",
       " '거대한': 7260,\n",
       " '이데올로기': 116511,\n",
       " '아니라': 95097,\n",
       " '모여': 57060,\n",
       " '통해': 152788,\n",
       " '시대': 88728,\n",
       " '본다': 70728,\n",
       " '아들': 95594,\n",
       " '보고왔는데': 67990,\n",
       " '재미있네요': 126561,\n",
       " '라는': 47885,\n",
       " '들었고': 43541,\n",
       " '대로': 35694,\n",
       " '였던거': 107592,\n",
       " '신은': 90248,\n",
       " '할것도': 159774,\n",
       " '없음': 105748,\n",
       " '깔끔한': 17507,\n",
       " '그저': 14365,\n",
       " '흥미': 167533,\n",
       " '롭고': 48812,\n",
       " '봤네요': 71995,\n",
       " '예산': 108187,\n",
       " '지라': 138682,\n",
       " '세트': 84795,\n",
       " '아쉬운': 96126,\n",
       " '어쩔': 103823,\n",
       " '없다': 105073,\n",
       " '보통': 70451,\n",
       " '하기': 157771,\n",
       " '어려운': 102458,\n",
       " '시간대': 88572,\n",
       " '심야': 91203,\n",
       " '에만': 106036,\n",
       " '편성': 154884,\n",
       " '되거나': 39718,\n",
       " '아예': 96488,\n",
       " '걸지도': 8363,\n",
       " '않을': 99275,\n",
       " '아니지': 95343,\n",
       " '않은가': 99227,\n",
       " '김기덕': 16574,\n",
       " '차별': 144206,\n",
       " '인가': 118754,\n",
       " '주제': 135945,\n",
       " '해리포터': 160939,\n",
       " '떠올리게': 46108,\n",
       " '마법': 49597,\n",
       " '원자력발전소': 113850,\n",
       " '위험': 114325,\n",
       " '알려': 99680,\n",
       " '준영': 136794,\n",
       " '무서웟음': 58725,\n",
       " '살인': 81353,\n",
       " '자씨': 123089,\n",
       " '얼마나': 104403,\n",
       " '무참': 59210,\n",
       " '가두고': 2128,\n",
       " '죽일수': 136653,\n",
       " '있는지': 121425,\n",
       " '급히': 14852,\n",
       " '준건': 136714,\n",
       " '인정': 118990,\n",
       " '특별판': 153275,\n",
       " '이라서': 116580,\n",
       " '엄청난': 104651,\n",
       " '약간': 101699,\n",
       " '실망할수도': 90517,\n",
       " '있지만': 122208,\n",
       " '살렸다': 80509,\n",
       " '장난': 125717,\n",
       " '아니네요': 95036,\n",
       " '괜찮은': 11160,\n",
       " '역대': 106753,\n",
       " '시리즈': 88820,\n",
       " '지루함': 139048,\n",
       " '볼때': 71070,\n",
       " '마다': 49465,\n",
       " '이번': 117302,\n",
       " '명작': 56469,\n",
       " '이라고': 116547,\n",
       " '과장': 10630,\n",
       " '그러나': 13457,\n",
       " '투자': 152926,\n",
       " '센스': 84917,\n",
       " '무엇': 59090,\n",
       " '과도': 10593,\n",
       " '비교': 75564,\n",
       " '수가': 86041,\n",
       " '간만': 3779,\n",
       " '아깝지': 94751,\n",
       " '않은': 99226,\n",
       " '였음': 107689,\n",
       " '스위스': 87585,\n",
       " '풍경': 156486,\n",
       " '배경': 65086,\n",
       " '움악': 112814,\n",
       " '참전': 144945,\n",
       " '사분': 79585,\n",
       " '기억': 15956,\n",
       " '하며': 158469,\n",
       " '열심히': 107258,\n",
       " '살겠습니다': 80240,\n",
       " '이지만': 118458,\n",
       " '재밌는': 127776,\n",
       " '구성': 11739,\n",
       " '즐겁고': 137800,\n",
       " '재밌었습니다': 128287,\n",
       " '결과': 9033,\n",
       " '과정': 10641,\n",
       " '화중': 165116,\n",
       " '살짝': 81389,\n",
       " '애매한': 100868,\n",
       " '가족영화': 3282,\n",
       " '컸던': 149631,\n",
       " '전개': 130780,\n",
       " '억지스러': 104008,\n",
       " '연습': 107025,\n",
       " '오던가': 108539,\n",
       " '아님': 95513,\n",
       " '노래': 28034,\n",
       " '웃으면서': 113501,\n",
       " '이예': 118281,\n",
       " '화면': 165034,\n",
       " '좋구': 134038,\n",
       " '조카': 132906,\n",
       " '잼있게': 129302,\n",
       " '추운': 147409,\n",
       " '겨울': 8801,\n",
       " '빤한': 77402,\n",
       " '재밌었음': 128338,\n",
       " '왔습니다': 110613,\n",
       " '애나': 100755,\n",
       " '어른': 102661,\n",
       " '불륜': 74413,\n",
       " '이든': 116532,\n",
       " '사랑': 79289,\n",
       " '한마디': 159486,\n",
       " '정의': 131740,\n",
       " '밀땅': 61795,\n",
       " '한없는': 159628,\n",
       " '유치함도': 114997,\n",
       " '한자리': 159672,\n",
       " '차지': 144365,\n",
       " '논리': 28455,\n",
       " '대목': 35730,\n",
       " '끊었던': 19818,\n",
       " '담배': 34514,\n",
       " '생각나는': 82335,\n",
       " '조절': 132850,\n",
       " '답답하고': 34711,\n",
       " '성도': 84235,\n",
       " '브로맨스': 75376,\n",
       " '같기도': 5854,\n",
       " '정우성': 131725,\n",
       " '설명': 83806,\n",
       " '필요없다': 157168,\n",
       " '아들내미': 95595,\n",
       " 'ㅋㅣ': 860,\n",
       " '개패': 7035,\n",
       " '싶다': 91707,\n",
       " '원작': 113854,\n",
       " '몰라서': 57426,\n",
       " '그리': 14057,\n",
       " '놀랄만': 28628,\n",
       " '했지만': 162881,\n",
       " '간의': 3821,\n",
       " '만으로도': 51421,\n",
       " '충분히': 147907,\n",
       " '왔어요': 110625,\n",
       " '클린트': 150696,\n",
       " '이스트': 117800,\n",
       " '우드': 111720,\n",
       " '평론가': 155254,\n",
       " '줬으면': 137491,\n",
       " '보러가자': 68989,\n",
       " '보장': 70342,\n",
       " '한다': 159376,\n",
       " '금방': 14669,\n",
       " '내리는': 26028,\n",
       " '새고': 81968,\n",
       " '갔는데': 5022,\n",
       " '밤새고': 64827,\n",
       " '영화관': 107866,\n",
       " '가는건': 1880,\n",
       " '아니에요': 95262,\n",
       " '봤으니': 72325,\n",
       " '점수': 131269,\n",
       " '함부로': 160297,\n",
       " '매기겠네요': 53982,\n",
       " '동안': 39309,\n",
       " '잡스': 125344,\n",
       " '남자': 24838,\n",
       " '아빠': 96049,\n",
       " '로서': 48697,\n",
       " '엿볼': 107433,\n",
       " '있던': 121580,\n",
       " '이었다': 118112,\n",
       " '소름': 85121,\n",
       " '슬퍼서': 88064,\n",
       " '뻔했네요': 78242,\n",
       " '실화': 90740,\n",
       " '바탕': 63153,\n",
       " '이상은': 117580,\n",
       " '하는듯': 158088,\n",
       " '응원': 115854,\n",
       " '상영': 81847,\n",
       " '오오': 108988,\n",
       " '작은': 123524,\n",
       " '반응': 63680,\n",
       " '예민한': 107976,\n",
       " '오히려': 109197,\n",
       " '그런': 13598,\n",
       " '소리': 85172,\n",
       " '시끄럽게': 88655,\n",
       " '들렸어요': 42882,\n",
       " '보고싶음': 67875,\n",
       " 'ㅎㅎㅎㅎ': 1006,\n",
       " '봐야지': 71624,\n",
       " '이니까': 116469,\n",
       " '아쉽': 96279,\n",
       " '기도': 15689,\n",
       " '그렇지만': 13866,\n",
       " '화려하고': 164897,\n",
       " '짜릿한': 141701,\n",
       " '만족': 51451,\n",
       " '해줬음': 161998,\n",
       " '케미': 149695,\n",
       " '폭발': 155714,\n",
       " '도경수': 37600,\n",
       " '잘한': 124955,\n",
       " '죄수': 135341,\n",
       " '복안': 70525,\n",
       " '멋진': 55836,\n",
       " '티셔츠': 153707,\n",
       " '잼있음': 129510,\n",
       " '꿀잼핵잼': 19343,\n",
       " '예스': 108202,\n",
       " '허니': 163279,\n",
       " '일본': 119318,\n",
       " '갇힌': 3984,\n",
       " '덕혜옹주': 36882,\n",
       " '불우한': 74694,\n",
       " '세상': 84645,\n",
       " '살았네요': 81262,\n",
       " '찡한': 143943,\n",
       " '재밌고': 127689,\n",
       " '신도': 89932,\n",
       " '친구': 148599,\n",
       " '같이': 6293,\n",
       " '애기': 100746,\n",
       " '있어': 121648,\n",
       " '버튼': 66209,\n",
       " '판타지': 154202,\n",
       " '명불허전': 56437,\n",
       " '환상': 165353,\n",
       " '물론': 59786,\n",
       " '이고': 116192,\n",
       " '잡은': 125512,\n",
       " '보시길': 69314,\n",
       " '핑거': 157379,\n",
       " '스미스': 87533,\n",
       " '리메이크': 49180,\n",
       " '다해': 33271,\n",
       " ...}"
      ]
     },
     "execution_count": 161,
     "metadata": {},
     "output_type": "execute_result"
    }
   ],
   "source": [
    "ct_vectorizer.vocabulary_"
   ]
  },
  {
   "cell_type": "code",
   "execution_count": 162,
   "metadata": {},
   "outputs": [],
   "source": [
    "lr_clf1 = LogisticRegression(C=5, max_iter = 100, solver='saga', n_jobs=-1)"
   ]
  },
  {
   "cell_type": "code",
   "execution_count": 163,
   "metadata": {},
   "outputs": [
    {
     "name": "stderr",
     "output_type": "stream",
     "text": [
      "C:\\Users\\gram_\\anaconda3\\envs\\min\\lib\\site-packages\\sklearn\\linear_model\\_sag.py:329: ConvergenceWarning: The max_iter was reached which means the coef_ did not converge\n",
      "  \"the coef_ did not converge\", ConvergenceWarning)\n"
     ]
    },
    {
     "data": {
      "text/plain": [
       "LogisticRegression(C=5, n_jobs=-1, solver='saga')"
      ]
     },
     "execution_count": 163,
     "metadata": {},
     "output_type": "execute_result"
    }
   ],
   "source": [
    "lr_clf1.fit(ct_train_features, y_train)"
   ]
  },
  {
   "cell_type": "code",
   "execution_count": 164,
   "metadata": {},
   "outputs": [],
   "source": [
    "pred_labels1 = lr_clf1.predict(ct_test_features)"
   ]
  },
  {
   "cell_type": "code",
   "execution_count": 165,
   "metadata": {},
   "outputs": [
    {
     "name": "stdout",
     "output_type": "stream",
     "text": [
      "Misclassified samples: 14809 out of 201781\n",
      "Accuracy: 0.93\n"
     ]
    }
   ],
   "source": [
    "from sklearn.metrics import accuracy_score\n",
    "print('Misclassified samples: {} out of {}'.format((pred_labels1 != y_test).sum(),len(y_test)))\n",
    "print('Accuracy: %.2f' % accuracy_score(y_test, pred_labels1))"
   ]
  },
  {
   "cell_type": "code",
   "execution_count": 166,
   "metadata": {},
   "outputs": [
    {
     "data": {
      "text/plain": [
       "array([[ 14914,  12236],\n",
       "       [  2573, 172058]], dtype=int64)"
      ]
     },
     "execution_count": 166,
     "metadata": {},
     "output_type": "execute_result"
    }
   ],
   "source": [
    "from sklearn.metrics import confusion_matrix\n",
    "confusion_matrix(y_test, pred_labels1)"
   ]
  },
  {
   "cell_type": "code",
   "execution_count": 167,
   "metadata": {},
   "outputs": [
    {
     "name": "stdout",
     "output_type": "stream",
     "text": [
      "              precision    recall  f1-score   support\n",
      "\n",
      "           0       0.85      0.55      0.67     27150\n",
      "           1       0.93      0.99      0.96    174631\n",
      "\n",
      "    accuracy                           0.93    201781\n",
      "   macro avg       0.89      0.77      0.81    201781\n",
      "weighted avg       0.92      0.93      0.92    201781\n",
      "\n"
     ]
    }
   ],
   "source": [
    "from sklearn.metrics import classification_report\n",
    "print(classification_report(y_test, pred_labels1))"
   ]
  },
  {
   "cell_type": "code",
   "execution_count": 168,
   "metadata": {},
   "outputs": [],
   "source": [
    "y_prob1 = lr_clf1.predict_proba(ct_test_features)"
   ]
  },
  {
   "cell_type": "code",
   "execution_count": 169,
   "metadata": {},
   "outputs": [
    {
     "name": "stdout",
     "output_type": "stream",
     "text": [
      "0.9425984832443275\n"
     ]
    }
   ],
   "source": [
    "from sklearn.metrics import roc_auc_score\n",
    "\n",
    "auc_score1 = roc_auc_score(y_test, y_prob1[:,1])\n",
    "\n",
    "print(auc_score1)"
   ]
  },
  {
   "cell_type": "code",
   "execution_count": 170,
   "metadata": {},
   "outputs": [],
   "source": [
    "from sklearn.metrics import roc_curve\n",
    "\n",
    "fpr1, tpr1, thresh1 = roc_curve(y_test, y_prob1[:,1], pos_label=1)\n",
    "\n",
    "random_probs1 = [0 for i in range(len(y_test))]\n",
    "p_fpr, p_tpr, _ = roc_curve(y_test, random_probs1, pos_label=1)"
   ]
  },
  {
   "cell_type": "code",
   "execution_count": 171,
   "metadata": {},
   "outputs": [
    {
     "data": {
      "image/png": "[encoded data removed]",
      "text/plain": [
       "<Figure size 576x396 with 1 Axes>"
      ]
     },
     "metadata": {},
     "output_type": "display_data"
    }
   ],
   "source": [
    "plt.style.use('seaborn')\n",
    "\n",
    "plt.plot(fpr1, tpr1, linestyle='--',color='orange', label='Rogistic Regression')\n",
    "plt.plot(p_fpr, p_tpr, linestyle='--', color='blue')\n",
    "\n",
    "plt.title('ROC curve')\n",
    "plt.xlabel('False Positive Rate')\n",
    "plt.ylabel('True Positive rate')\n",
    "\n",
    "plt.legend(loc='best')\n",
    "plt.savefig('ROC',dpi=300)\n",
    "plt.show()"
   ]
  },
  {
   "cell_type": "markdown",
   "metadata": {},
   "source": [
    "### 7.1.3 상위 긍정 단어 50개 출력\n",
    "- 이를 위해서 학습 결과로 도출된 파라미터의 값을 기준으로 정렬하여 파라미터의 값이 큰 순으로 50개의 단어들을 출력하면 됨"
   ]
  },
  {
   "cell_type": "code",
   "execution_count": 172,
   "metadata": {},
   "outputs": [
    {
     "name": "stdout",
     "output_type": "stream",
     "text": [
      "[(128297, 2.9832988639916813), (19242, 2.810878405649801), (128092, 2.6441695180572182), (126903, 2.614948680112752), (126749, 2.3564380244053456)]\n"
     ]
    }
   ],
   "source": [
    "vocablist = [word for word, _ in sorted(ct_vectorizer.vocabulary_.items(), key=lambda x:x[1])]\n",
    "coefficients = lr_clf1.coef_.tolist()\n",
    "sorted_coefficients = sorted(enumerate(coefficients[0]), key=lambda x:x[1], reverse=True)\n",
    "print(sorted_coefficients[:5])"
   ]
  },
  {
   "cell_type": "code",
   "execution_count": 173,
   "metadata": {
    "scrolled": true
   },
   "outputs": [
    {
     "name": "stdout",
     "output_type": "stream",
     "text": [
      "\n",
      "긍정적인 단어 Top 50 :\n",
      "----------------------------\n",
      "재밌었어요 (2.983)\n",
      "꿀잼 (2.811)\n",
      "재밌어요 (2.644)\n",
      "재미있었어요 (2.615)\n",
      "재미있어요 (2.356)\n",
      "좋았어요 (2.345)\n",
      "재밌었음 (2.184)\n",
      "재밌네요 (2.157)\n",
      "좋았습니다 (2.148)\n",
      "좋아요 (2.113)\n",
      "재미있게 (2.105)\n",
      "재밌습니다 (2.074)\n",
      "재미있었습니다 (2.059)\n",
      "여운 (2.046)\n",
      "재밌었습니다 (2.032)\n",
      "재밌음 (2.004)\n",
      "시키지 (1.956)\n",
      "지루하지 (1.938)\n",
      "재밌고 (1.927)\n",
      "재밌게 (1.882)\n",
      "재밌었다 (1.854)\n",
      "존잼 (1.842)\n",
      "봤어요 (1.840)\n",
      "가는줄 (1.834)\n",
      "지루할 (1.780)\n",
      "재밌는데 (1.773)\n",
      "강추 (1.769)\n",
      "굿굿 (1.763)\n",
      "최고다 (1.760)\n",
      "아깝지 (1.759)\n",
      "재미있네요 (1.745)\n",
      "최고 (1.716)\n",
      "좋았음 (1.713)\n",
      "대박 (1.705)\n",
      "재미있습니다 (1.677)\n",
      "짱짱 (1.663)\n",
      "재밌다 (1.641)\n",
      "가슴 (1.638)\n",
      "흥미진진 (1.631)\n",
      "재밋 (1.594)\n",
      "심장 (1.590)\n",
      "재미있었음 (1.551)\n",
      "재밋어 (1.548)\n",
      "테러 (1.534)\n",
      "좋았고 (1.511)\n",
      "재미있고 (1.490)\n",
      "개꿀잼 (1.488)\n",
      "좋네요 (1.472)\n",
      "수작 (1.461)\n",
      "좋고 (1.450)\n"
     ]
    }
   ],
   "source": [
    "print('\\n긍정적인 단어 Top 50 :')\n",
    "print('----------------------------')\n",
    "for word, coef in sorted_coefficients[:50]:\n",
    "    print('{0:} ({1:.3f})'.format(vocablist[word], coef))"
   ]
  },
  {
   "cell_type": "markdown",
   "metadata": {},
   "source": [
    "### 7.1.4 상위 부정 단어 50개 출력\n",
    "- 이를 위해서 학습 결과로 도출된 파라미터의 값을 기준으로 정렬하여 파라미터의 값이 작은 순으로 50개의 단어들을 출력하면 됨"
   ]
  },
  {
   "cell_type": "code",
   "execution_count": 174,
   "metadata": {
    "scrolled": true
   },
   "outputs": [
    {
     "name": "stdout",
     "output_type": "stream",
     "text": [
      "\n",
      "부정적인 단어 Top 50 :\n",
      "----------------------------\n",
      "최악 (-3.697)\n",
      "노잼 (-3.095)\n",
      "아깝다 (-3.073)\n",
      "재미없음 (-3.018)\n",
      "아까 (-2.767)\n",
      "재미없어요 (-2.708)\n",
      "재미없다 (-2.554)\n",
      "차라리 (-2.339)\n",
      "이딴 (-2.238)\n",
      "지루하고 (-2.235)\n",
      "아까워 (-2.206)\n",
      "졸작 (-2.183)\n",
      "쓰레기 (-2.159)\n",
      "재미없는 (-2.110)\n",
      "비추 (-2.075)\n",
      "실망 (-2.014)\n",
      "재미없고 (-1.982)\n",
      "역사왜곡 (-1.963)\n",
      "그나마 (-1.939)\n",
      "엉망 (-1.929)\n",
      "이하 (-1.904)\n",
      "재미없어서 (-1.860)\n",
      "망작 (-1.857)\n",
      "지루해서 (-1.851)\n",
      "억지 (-1.839)\n",
      "지루했다 (-1.837)\n",
      "낭비 (-1.818)\n",
      "아까운 (-1.798)\n",
      "유치하고 (-1.761)\n",
      "지루했어요 (-1.718)\n",
      "지루해요 (-1.715)\n",
      "하품 (-1.713)\n",
      "잤다 (-1.703)\n",
      "지루하다 (-1.699)\n",
      "미화 (-1.671)\n",
      "불륜 (-1.662)\n",
      "별로 (-1.661)\n",
      "없고 (-1.659)\n",
      "알바 (-1.655)\n",
      "삼류 (-1.650)\n",
      "지루했음 (-1.628)\n",
      "안되고 (-1.616)\n",
      "지루해 (-1.583)\n",
      "재미없습니다 (-1.576)\n",
      "그닥 (-1.558)\n",
      "아깝네요 (-1.558)\n",
      "아깝 (-1.534)\n",
      "재미없어 (-1.532)\n",
      "억지로 (-1.531)\n",
      "왜곡 (-1.524)\n"
     ]
    }
   ],
   "source": [
    "print('\\n부정적인 단어 Top 50 :')\n",
    "print('----------------------------')\n",
    "for word, coef in reversed(sorted_coefficients[-50:]):\n",
    "    print('{0:} ({1:.3f})'.format(vocablist[word], coef))"
   ]
  },
  {
   "cell_type": "code",
   "execution_count": null,
   "metadata": {},
   "outputs": [],
   "source": []
  },
  {
   "cell_type": "markdown",
   "metadata": {},
   "source": [
    "## 7.2 TfidfVectorizer"
   ]
  },
  {
   "cell_type": "markdown",
   "metadata": {},
   "source": [
    "### 7.2.1 GridSearchCv 수행"
   ]
  },
  {
   "cell_type": "code",
   "execution_count": 175,
   "metadata": {},
   "outputs": [],
   "source": [
    "from sklearn.feature_extraction.text import TfidfVectorizer"
   ]
  },
  {
   "cell_type": "code",
   "execution_count": 30,
   "metadata": {
    "scrolled": true
   },
   "outputs": [
    {
     "name": "stdout",
     "output_type": "stream",
     "text": [
      "Fitting 3 folds for each of 12 candidates, totalling 36 fits\n",
      "[CV] END lr_clf__C=0.1, tf_vect__min_df=1, tf_vect__ngram_range=(1, 1); total time=  15.6s\n",
      "[CV] END lr_clf__C=0.1, tf_vect__min_df=1, tf_vect__ngram_range=(1, 1); total time=  14.3s\n",
      "[CV] END lr_clf__C=0.1, tf_vect__min_df=1, tf_vect__ngram_range=(1, 1); total time=  13.9s\n",
      "[CV] END lr_clf__C=0.1, tf_vect__min_df=1, tf_vect__ngram_range=(1, 2); total time=  31.2s\n",
      "[CV] END lr_clf__C=0.1, tf_vect__min_df=1, tf_vect__ngram_range=(1, 2); total time=  33.1s\n",
      "[CV] END lr_clf__C=0.1, tf_vect__min_df=1, tf_vect__ngram_range=(1, 2); total time=  33.9s\n",
      "[CV] END lr_clf__C=0.1, tf_vect__min_df=3, tf_vect__ngram_range=(1, 1); total time=  14.6s\n",
      "[CV] END lr_clf__C=0.1, tf_vect__min_df=3, tf_vect__ngram_range=(1, 1); total time=  13.7s\n",
      "[CV] END lr_clf__C=0.1, tf_vect__min_df=3, tf_vect__ngram_range=(1, 1); total time=  13.4s\n",
      "[CV] END lr_clf__C=0.1, tf_vect__min_df=3, tf_vect__ngram_range=(1, 2); total time=  22.3s\n",
      "[CV] END lr_clf__C=0.1, tf_vect__min_df=3, tf_vect__ngram_range=(1, 2); total time=  25.2s\n",
      "[CV] END lr_clf__C=0.1, tf_vect__min_df=3, tf_vect__ngram_range=(1, 2); total time=  23.5s\n",
      "[CV] END lr_clf__C=1, tf_vect__min_df=1, tf_vect__ngram_range=(1, 1); total time=  14.1s\n",
      "[CV] END lr_clf__C=1, tf_vect__min_df=1, tf_vect__ngram_range=(1, 1); total time=  14.9s\n",
      "[CV] END lr_clf__C=1, tf_vect__min_df=1, tf_vect__ngram_range=(1, 1); total time=  14.5s\n",
      "[CV] END lr_clf__C=1, tf_vect__min_df=1, tf_vect__ngram_range=(1, 2); total time=  32.9s\n",
      "[CV] END lr_clf__C=1, tf_vect__min_df=1, tf_vect__ngram_range=(1, 2); total time=  39.4s\n",
      "[CV] END lr_clf__C=1, tf_vect__min_df=1, tf_vect__ngram_range=(1, 2); total time=  33.4s\n",
      "[CV] END lr_clf__C=1, tf_vect__min_df=3, tf_vect__ngram_range=(1, 1); total time=  13.1s\n",
      "[CV] END lr_clf__C=1, tf_vect__min_df=3, tf_vect__ngram_range=(1, 1); total time=  17.3s\n",
      "[CV] END lr_clf__C=1, tf_vect__min_df=3, tf_vect__ngram_range=(1, 1); total time=  15.4s\n",
      "[CV] END lr_clf__C=1, tf_vect__min_df=3, tf_vect__ngram_range=(1, 2); total time=  29.7s\n",
      "[CV] END lr_clf__C=1, tf_vect__min_df=3, tf_vect__ngram_range=(1, 2); total time=  28.4s\n",
      "[CV] END lr_clf__C=1, tf_vect__min_df=3, tf_vect__ngram_range=(1, 2); total time=  25.4s\n",
      "[CV] END lr_clf__C=5, tf_vect__min_df=1, tf_vect__ngram_range=(1, 1); total time=  20.4s\n",
      "[CV] END lr_clf__C=5, tf_vect__min_df=1, tf_vect__ngram_range=(1, 1); total time=  25.5s\n",
      "[CV] END lr_clf__C=5, tf_vect__min_df=1, tf_vect__ngram_range=(1, 1); total time=  25.2s\n",
      "[CV] END lr_clf__C=5, tf_vect__min_df=1, tf_vect__ngram_range=(1, 2); total time=  57.0s\n",
      "[CV] END lr_clf__C=5, tf_vect__min_df=1, tf_vect__ngram_range=(1, 2); total time=  49.8s\n",
      "[CV] END lr_clf__C=5, tf_vect__min_df=1, tf_vect__ngram_range=(1, 2); total time=  37.5s\n",
      "[CV] END lr_clf__C=5, tf_vect__min_df=3, tf_vect__ngram_range=(1, 1); total time=  16.1s\n",
      "[CV] END lr_clf__C=5, tf_vect__min_df=3, tf_vect__ngram_range=(1, 1); total time=  15.7s\n",
      "[CV] END lr_clf__C=5, tf_vect__min_df=3, tf_vect__ngram_range=(1, 1); total time=  15.5s\n",
      "[CV] END lr_clf__C=5, tf_vect__min_df=3, tf_vect__ngram_range=(1, 2); total time=  26.2s\n",
      "[CV] END lr_clf__C=5, tf_vect__min_df=3, tf_vect__ngram_range=(1, 2); total time=  26.7s\n",
      "[CV] END lr_clf__C=5, tf_vect__min_df=3, tf_vect__ngram_range=(1, 2); total time=  25.9s\n",
      "{'lr_clf__C': 5, 'tf_vect__min_df': 1, 'tf_vect__ngram_range': (1, 2)} 0.9384417031491328\n"
     ]
    }
   ],
   "source": [
    "pipeline2 = Pipeline([\n",
    "    ('tf_vect', TfidfVectorizer()),\n",
    "    ('lr_clf', LogisticRegression(solver='saga', max_iter = 100, n_jobs=-1))\n",
    "])\n",
    "\n",
    "params2 = {'tf_vect__ngram_range' : [(1,1), (1,2)],\n",
    "         'tf_vect__min_df': [1, 3],\n",
    "         'lr_clf__C' : [0.1, 1, 5]\n",
    "}\n",
    "\n",
    "grid_cv_pipe2 = GridSearchCV(pipeline2, param_grid=params2, cv=3, scoring='accuracy', verbose=2)\n",
    "grid_cv_pipe2.fit(X_train, y_train)\n",
    "print(grid_cv_pipe2.best_params_, grid_cv_pipe2.best_score_)"
   ]
  },
  {
   "cell_type": "markdown",
   "metadata": {},
   "source": [
    "### 7.2.2 그리드서치로 구한 hyper parameter 적용해서 다양한 지표값 확인\n",
    "- {'lr_clf__C': 5, 'tf_vect__min_df': 1, 'tf_vect__ngram_range': (1, 2)}\n",
    "- 학습 결과 (test dataset에 대한 confusion matrix를 이용하여 계산될 수 있는 지표값들 + ROC & AUC) 리포트 & 해석하기"
   ]
  },
  {
   "cell_type": "code",
   "execution_count": 176,
   "metadata": {},
   "outputs": [],
   "source": [
    "tf_vectorizer = TfidfVectorizer(min_df=1, ngram_range=(1,2)) \n",
    "tf_train_features = tf_vectorizer.fit_transform(X_train) \n",
    "tf_test_features = tf_vectorizer.transform(X_test)"
   ]
  },
  {
   "cell_type": "code",
   "execution_count": 177,
   "metadata": {},
   "outputs": [
    {
     "data": {
      "text/plain": [
       "{'음악': 1319289,\n",
       " '좋고': 1596900,\n",
       " '서로': 883832,\n",
       " '음악 좋고': 1320331,\n",
       " '좋고 서로': 1597433,\n",
       " '솔직히': 915597,\n",
       " '시작': 967372,\n",
       " '하고': 1825691,\n",
       " '자다가': 1446813,\n",
       " '일어나니': 1406357,\n",
       " '비행': 821038,\n",
       " '기안': 209262,\n",
       " '현실': 1922569,\n",
       " '오거': 1240390,\n",
       " '폭포': 1811259,\n",
       " '싸우고': 996789,\n",
       " '잇엇다': 1419616,\n",
       " '공감': 124118,\n",
       " '눌러라': 340016,\n",
       " '솔직히 시작': 916196,\n",
       " '시작 하고': 968166,\n",
       " '하고 자다가': 1829492,\n",
       " '자다가 일어나니': 1446858,\n",
       " '일어나니 비행': 1406362,\n",
       " '비행 기안': 821041,\n",
       " '기안 현실': 209281,\n",
       " '현실 오거': 1923844,\n",
       " '오거 폭포': 1240395,\n",
       " '폭포 싸우고': 1811264,\n",
       " '싸우고 잇엇다': 996870,\n",
       " '잇엇다 공감': 1419622,\n",
       " '공감 눌러라': 124251,\n",
       " '이런': 1348541,\n",
       " '없네': 1138563,\n",
       " '이런 없네': 1349605,\n",
       " '쓰레기': 1004469,\n",
       " '같은': 77112,\n",
       " '장면': 1474468,\n",
       " '내용': 296577,\n",
       " '집합': 1682471,\n",
       " '영화': 1214903,\n",
       " '쓰레기 같은': 1004507,\n",
       " '같은 장면': 78424,\n",
       " '장면 내용': 1474875,\n",
       " '내용 집합': 299576,\n",
       " '집합 쓰레기': 1682487,\n",
       " '쓰레기 영화': 1004922,\n",
       " '갈등': 43798,\n",
       " '이유': 1377750,\n",
       " '확실했고': 1938943,\n",
       " '스토리': 939581,\n",
       " '괜찮다': 138695,\n",
       " '그리고': 184096,\n",
       " '제일': 1572233,\n",
       " '좋은': 1614925,\n",
       " '영웅': 1213183,\n",
       " '많이': 558655,\n",
       " '나왔다는거': 270908,\n",
       " '갈등 이유': 44040,\n",
       " '이유 확실했고': 1378730,\n",
       " '확실했고 스토리': 1938944,\n",
       " '스토리 괜찮다': 939907,\n",
       " '괜찮다 그리고': 138701,\n",
       " '그리고 제일': 186308,\n",
       " '제일 좋은': 1573143,\n",
       " '좋은 영웅': 1615538,\n",
       " '영웅 많이': 1213476,\n",
       " '많이 나왔다는거': 559085,\n",
       " '런던': 502496,\n",
       " '일어난': 1406670,\n",
       " '테러': 1774773,\n",
       " '잔악': 1460022,\n",
       " '느낄수': 345535,\n",
       " '있었지만': 1438347,\n",
       " '수없이': 920559,\n",
       " '많은': 556713,\n",
       " '테러리스트': 1775222,\n",
       " '잠입': 1469768,\n",
       " '있었는지': 1435767,\n",
       " '영국': 1210973,\n",
       " '보안': 745588,\n",
       " '시스템': 965167,\n",
       " '의문': 1322518,\n",
       " '갑니다': 59305,\n",
       " '런던 일어난': 502543,\n",
       " '일어난 테러': 1406716,\n",
       " '테러 잔악': 1775061,\n",
       " '잔악 느낄수': 1460023,\n",
       " '느낄수 있었지만': 345607,\n",
       " '있었지만 수없이': 1438593,\n",
       " '수없이 많은': 920580,\n",
       " '많은 테러리스트': 557502,\n",
       " '테러리스트 잠입': 1775226,\n",
       " '잠입 있었는지': 1469773,\n",
       " '있었는지 영국': 1435802,\n",
       " '영국 보안': 1211037,\n",
       " '보안 시스템': 745596,\n",
       " '시스템 의문': 965262,\n",
       " '의문 갑니다': 1322545,\n",
       " '재미': 1480200,\n",
       " '감동': 49420,\n",
       " '모두': 597484,\n",
       " '재미 감동': 1480305,\n",
       " '감동 모두': 50424,\n",
       " '특이하고': 1784135,\n",
       " '재미있게': 1487855,\n",
       " '봤음': 784501,\n",
       " '관객수': 133606,\n",
       " '적은지': 1532935,\n",
       " '이해': 1385552,\n",
       " '안됨': 1058100,\n",
       " '특이하고 재미있게': 1784161,\n",
       " '재미있게 봤음': 1488352,\n",
       " '봤음 관객수': 784555,\n",
       " '관객수 적은지': 133746,\n",
       " '적은지 이해': 1532947,\n",
       " '이해 안됨': 1386213,\n",
       " '시간': 954108,\n",
       " '가는줄': 22507,\n",
       " '모르고': 603627,\n",
       " '한국': 1864473,\n",
       " '좀비': 1591684,\n",
       " '로는': 505242,\n",
       " '최고': 1722912,\n",
       " '에요': 1167331,\n",
       " '시간 가는줄': 954148,\n",
       " '가는줄 모르고': 22547,\n",
       " '모르고 한국': 604316,\n",
       " '한국 좀비': 1865338,\n",
       " '좀비 로는': 1592361,\n",
       " '로는 최고': 505586,\n",
       " '최고 에요': 1724147,\n",
       " '이영화': 1375616,\n",
       " '보고': 706848,\n",
       " '받았거나': 673271,\n",
       " '아름답다고': 1029779,\n",
       " '생각': 875603,\n",
       " '한다면': 1868779,\n",
       " '김치': 220424,\n",
       " '인증': 1398832,\n",
       " '이영화 보고': 1376134,\n",
       " '보고 감동': 706952,\n",
       " '감동 받았거나': 50607,\n",
       " '받았거나 아름답다고': 673272,\n",
       " '아름답다고 생각': 1029787,\n",
       " '생각 한다면': 877942,\n",
       " '한다면 김치': 1868810,\n",
       " '김치 인증': 220486,\n",
       " '보세요': 741704,\n",
       " '이건': 1325990,\n",
       " '정말': 1555527,\n",
       " '야하는': 1099458,\n",
       " '입니다': 1413405,\n",
       " 'ㅜㅜ': 13088,\n",
       " '보세요 이건': 742442,\n",
       " '이건 정말': 1327018,\n",
       " '정말 야하는': 1558571,\n",
       " '야하는 영화': 1099539,\n",
       " '영화 입니다': 1225655,\n",
       " '입니다 ㅜㅜ': 1413439,\n",
       " '한국영': 1865616,\n",
       " '화보': 1935767,\n",
       " '면서': 593186,\n",
       " '웃은': 1293424,\n",
       " '드물었는데이': 456912,\n",
       " 'ㅋㅋㅋ': 6378,\n",
       " '한국영 화보': 1866508,\n",
       " '화보 면서': 1935921,\n",
       " '면서 웃은': 593421,\n",
       " '웃은 드물었는데이': 1293430,\n",
       " '드물었는데이 영화': 456913,\n",
       " '영화 ㅋㅋㅋ': 1214959,\n",
       " '너무': 301832,\n",
       " '무재': 629436,\n",
       " '밋게잘봣': 654935,\n",
       " '너무 무재': 304322,\n",
       " '무재 밋게잘봣': 629516,\n",
       " '재미있고': 1488760,\n",
       " '의미': 1322744,\n",
       " '있게': 1420256,\n",
       " '봤어요': 781191,\n",
       " '전쟁': 1541618,\n",
       " '남한': 287077,\n",
       " '북한': 800958,\n",
       " '침략': 1743218,\n",
       " '했다는': 1906976,\n",
       " '종북': 1594861,\n",
       " '좌파': 1618090,\n",
       " '주사파': 1623606,\n",
       " '소설': 907941,\n",
       " '반대': 667112,\n",
       " '하는': 1838773,\n",
       " '사실': 849045,\n",
       " '담은': 380536,\n",
       " '분명': 803971,\n",
       " '남침': 286715,\n",
       " '올바른': 1254015,\n",
       " '만들어졌으면': 541239,\n",
       " '좋겠어요': 1596660,\n",
       " '영화 너무': 1217258,\n",
       " '너무 재미있고': 307689,\n",
       " '재미있고 의미': 1489206,\n",
       " '의미 있게': 1323209,\n",
       " '있게 봤어요': 1420613,\n",
       " '봤어요 전쟁': 782656,\n",
       " '전쟁 남한': 1541724,\n",
       " '남한 북한': 287103,\n",
       " '북한 침략': 801402,\n",
       " '침략 했다는': 1743248,\n",
       " '했다는 종북': 1907126,\n",
       " '종북 좌파': 1594937,\n",
       " '좌파 주사파': 1618239,\n",
       " '주사파 쓰레기': 1623608,\n",
       " '쓰레기 소설': 1004816,\n",
       " '소설 반대': 908058,\n",
       " '반대 하는': 667259,\n",
       " '하는 사실': 1840058,\n",
       " '사실 담은': 849290,\n",
       " '담은 좋은': 380611,\n",
       " '좋은 영화': 1615541,\n",
       " '영화 분명': 1221605,\n",
       " '분명 남침': 804014,\n",
       " '남침 시작': 286722,\n",
       " '시작 전쟁': 968066,\n",
       " '전쟁 입니다': 1542127,\n",
       " '입니다 이런': 1415117,\n",
       " '이런 올바른': 1349694,\n",
       " '올바른 영화': 1254034,\n",
       " '영화 많이': 1219446,\n",
       " '많이 만들어졌으면': 559793,\n",
       " '만들어졌으면 좋겠어요': 541246,\n",
       " '공유': 126197,\n",
       " '잘생기고': 1466783,\n",
       " '마동석': 517494,\n",
       " '귀여워요': 157127,\n",
       " '공유 잘생기고': 127122,\n",
       " '잘생기고 마동석': 1466817,\n",
       " '마동석 귀여워요': 517569,\n",
       " '연기자': 1196722,\n",
       " '기을': 210824,\n",
       " '하셔서': 1853601,\n",
       " '잼나게': 1521228,\n",
       " '봤습니다': 778980,\n",
       " '연기자 기을': 1196752,\n",
       " '기을 하셔서': 210826,\n",
       " '하셔서 잼나게': 1853702,\n",
       " '잼나게 봤습니다': 1521392,\n",
       " '평생': 1803071,\n",
       " '기립': 206327,\n",
       " '박수': 662940,\n",
       " '불러일으킨': 807950,\n",
       " '영화평론가': 1233717,\n",
       " '보긴': 718512,\n",
       " '했음': 1912721,\n",
       " '은퇴': 1318322,\n",
       " '평생 영화': 1803205,\n",
       " '영화 기립': 1216345,\n",
       " '기립 박수': 206329,\n",
       " '박수 불러일으킨': 663068,\n",
       " '불러일으킨 영화': 807954,\n",
       " '영화 정말': 1226669,\n",
       " '정말 감동': 1555607,\n",
       " '감동 영화평론가': 51426,\n",
       " '영화평론가 영화': 1233804,\n",
       " '영화 보긴': 1220807,\n",
       " '보긴 했음': 718660,\n",
       " '했음 은퇴': 1913025,\n",
       " '대단': 387548,\n",
       " '하십니다': 1856189,\n",
       " '오랜': 1243882,\n",
       " '뭉클한': 638076,\n",
       " '였습니다': 1207397,\n",
       " '대단 하십니다': 387599,\n",
       " '하십니다 오랜': 1856200,\n",
       " '오랜 뭉클한': 1244229,\n",
       " '뭉클한 영화': 638114,\n",
       " '영화 였습니다': 1224405,\n",
       " '환타': 1940717,\n",
       " '스틱': 945319,\n",
       " '재밌네요': 1505298,\n",
       " '환타 스틱': 1940721,\n",
       " '스틱 하고': 945363,\n",
       " '하고 재밌네요': 1829653,\n",
       " '훌륭합니다': 1949680,\n",
       " '블랙': 813509,\n",
       " '팬서': 1793463,\n",
       " '스파이더맨': 945604,\n",
       " '나오는게': 262219,\n",
       " '좋았는데': 1609400,\n",
       " '런가': 501979,\n",
       " '발암': 676461,\n",
       " '블랙 팬서': 813602,\n",
       " '팬서 스파이더맨': 1793534,\n",
       " '스파이더맨 나오는게': 945691,\n",
       " '나오는게 좋았는데': 262287,\n",
       " '좋았는데 런가': 1609491,\n",
       " '런가 발암': 502112,\n",
       " '확실히': 1938958,\n",
       " '액션': 1094251,\n",
       " '클라스': 1762285,\n",
       " '다르네요': 360703,\n",
       " '봤는데': 773030,\n",
       " '생생하고': 881426,\n",
       " '직임': 1666152,\n",
       " '많아요': 555095,\n",
       " '확실히 액션': 1939301,\n",
       " '액션 클라스': 1096519,\n",
       " '클라스 다르네요': 1762305,\n",
       " '다르네요 봤는데': 360723,\n",
       " '봤는데 생생하고': 774156,\n",
       " '생생하고 직임': 881442,\n",
       " '직임 많아요': 1666154,\n",
       " '할리퀸': 1878866,\n",
       " '메날': 590168,\n",
       " '캐리': 1745407,\n",
       " '할리퀸 메날': 1879075,\n",
       " '메날 캐리': 590169,\n",
       " '도르': 416081,\n",
       " '마무': 519137,\n",
       " '받아라': 672811,\n",
       " '도르 마무': 416094,\n",
       " '마무 받아라': 519178,\n",
       " '화판': 1937658,\n",
       " '에도': 1161938,\n",
       " '간첩': 42966,\n",
       " '많냐': 553249,\n",
       " '화판 에도': 1937697,\n",
       " '에도 간첩': 1161956,\n",
       " '간첩 많냐': 43004,\n",
       " '전반': 1538937,\n",
       " '흐르는': 1952974,\n",
       " '메세지': 590539,\n",
       " '묵직해서': 632019,\n",
       " '좋네': 1598662,\n",
       " '전반 흐르는': 1539314,\n",
       " '흐르는 메세지': 1953004,\n",
       " '메세지 묵직해서': 590692,\n",
       " '묵직해서 좋네': 632021,\n",
       " '슈퍼': 929370,\n",
       " '피넛츠': 1818992,\n",
       " '십자': 991473,\n",
       " '슈퍼 피넛츠': 929432,\n",
       " '피넛츠 십자': 1818993,\n",
       " '십자 십자': 991480,\n",
       " '윈터': 1304795,\n",
       " '솔져': 915090,\n",
       " '보다는': 731757,\n",
       " '연출': 1199143,\n",
       " '떨어짐': 485671,\n",
       " 'ㅋㅋ': 3570,\n",
       " '그래도': 169301,\n",
       " '잼있었음': 1525837,\n",
       " '기대는': 201327,\n",
       " '하지마': 1859510,\n",
       " '세용': 901817,\n",
       " '캡틴': 1748712,\n",
       " '아메': 1030594,\n",
       " '리키': 514874,\n",
       " '인데': 1392168,\n",
       " '주인공': 1625836,\n",
       " '아니구': 1015537,\n",
       " '스피이더맨': 947510,\n",
       " '앤트맨': 1097889,\n",
       " '윈터 솔져': 1304799,\n",
       " '솔져 보다는': 915165,\n",
       " '보다는 연출': 732299,\n",
       " '연출 떨어짐': 1199606,\n",
       " '떨어짐 ㅋㅋ': 485672,\n",
       " 'ㅋㅋ 그래도': 3805,\n",
       " '그래도 잼있었음': 170673,\n",
       " '잼있었음 ㅋㅋ': 1525839,\n",
       " 'ㅋㅋ 너무': 3999,\n",
       " '너무 기대는': 302484,\n",
       " '기대는 하지마': 201403,\n",
       " '하지마 세용': 1859531,\n",
       " '세용 캡틴': 901830,\n",
       " '캡틴 아메': 1749046,\n",
       " '아메 리키': 1030599,\n",
       " '리키 인데': 514881,\n",
       " '인데 캡틴': 1393930,\n",
       " '캡틴 주인공': 1749237,\n",
       " '주인공 아니구': 1627010,\n",
       " '아니구 이영화': 1015561,\n",
       " '이영화 주인공': 1376823,\n",
       " '주인공 스피이더맨': 1626925,\n",
       " '스피이더맨 앤트맨': 947512,\n",
       " '마지막': 528221,\n",
       " '반전': 668667,\n",
       " '있었음': 1438118,\n",
       " '하나': 1834188,\n",
       " '얽히고': 1131374,\n",
       " '얽혀': 1131352,\n",
       " '싸우다가': 997415,\n",
       " '풀어지는': 1815099,\n",
       " '마지막 제일': 530458,\n",
       " '제일 반전': 1572575,\n",
       " '반전 있었음': 669763,\n",
       " '있었음 ㅋㅋㅋ': 1438122,\n",
       " 'ㅋㅋㅋ 서로': 7222,\n",
       " '서로 하나': 884338,\n",
       " '하나 얽히고': 1835817,\n",
       " '얽히고 얽혀': 1131385,\n",
       " '얽혀 싸우다가': 1131353,\n",
       " '싸우다가 의문': 997441,\n",
       " '의문 하나': 1322728,\n",
       " '하나 풀어지는': 1836602,\n",
       " '진짜': 1671917,\n",
       " '보면서': 739699,\n",
       " '모를': 605800,\n",
       " '느낌': 345918,\n",
       " '풋풋하고': 1815664,\n",
       " '설레이고': 890937,\n",
       " '재밌음': 1518088,\n",
       " '근데': 193381,\n",
       " '부분': 790362,\n",
       " '아쉬웠음': 1036455,\n",
       " '욕심': 1272761,\n",
       " '부린': 789497,\n",
       " '늘어지다가': 352076,\n",
       " '남주': 285916,\n",
       " '변한': 702810,\n",
       " '모습': 606561,\n",
       " '진짜 영화': 1675423,\n",
       " '영화 보면서': 1220972,\n",
       " '보면서 모를': 740152,\n",
       " '모를 느낌': 605831,\n",
       " '느낌 인데': 347597,\n",
       " '인데 풋풋하고': 1394012,\n",
       " '풋풋하고 설레이고': 1815697,\n",
       " '설레이고 너무': 890945,\n",
       " '너무 재밌음': 308016,\n",
       " '재밌음 진짜': 1518754,\n",
       " '진짜 근데': 1672453,\n",
       " '근데 마지막': 193761,\n",
       " '마지막 부분': 529293,\n",
       " '부분 아쉬웠음': 791335,\n",
       " '아쉬웠음 너무': 1036478,\n",
       " '너무 욕심': 306888,\n",
       " '욕심 부린': 1272846,\n",
       " '부린 느낌': 789499,\n",
       " '느낌 내용': 346304,\n",
       " '내용 늘어지다가': 297131,\n",
       " '늘어지다가 남주': 352077,\n",
       " '남주 변한': 285994,\n",
       " '변한 모습': 702823,\n",
       " '진국': 1666742,\n",
       " '깊습니다': 221850,\n",
       " 'ㅎㅎㅎ': 11603,\n",
       " '보고왔습니다': 715559,\n",
       " '감사해요': 54404,\n",
       " '영화 진국': 1227448,\n",
       " '진국 입니다': 1666754,\n",
       " '입니다 깊습니다': 1413761,\n",
       " '깊습니다 ㅎㅎㅎ': 221851,\n",
       " 'ㅎㅎㅎ 보고왔습니다': 11793,\n",
       " '보고왔습니다 감사해요': 715566,\n",
       " '재밌다니': 1508754,\n",
       " '분지나니까': 806555,\n",
       " '졸렵': 1589073,\n",
       " '분지': 806546,\n",
       " '나고': 249498,\n",
       " '나선': 258484,\n",
       " '끝나나': 243633,\n",
       " '밖에': 665507,\n",
       " '이후': 1387362,\n",
       " '에는': 1160049,\n",
       " '잤다': 1471888,\n",
       " '재밌다니 분지나니까': 1508765,\n",
       " '분지나니까 졸렵': 806556,\n",
       " '졸렵 분지': 1589075,\n",
       " '분지 나고': 806548,\n",
       " '나고 나선': 249550,\n",
       " '나선 끝나나': 258491,\n",
       " '끝나나 생각': 243647,\n",
       " '생각 밖에': 876617,\n",
       " '밖에 이후': 666072,\n",
       " '이후 에는': 1387690,\n",
       " '에는 잤다': 1161216,\n",
       " '없이': 1151653,\n",
       " '봤다가': 777318,\n",
       " '본지': 760423,\n",
       " '지났는데도': 1650362,\n",
       " '닥터스': 372219,\n",
       " '트레인': 1781965,\n",
       " '검색': 101054,\n",
       " '생각 없이': 877143,\n",
       " '없이 봤다가': 1152574,\n",
       " '봤다가 영화': 777478,\n",
       " '영화 본지': 1221250,\n",
       " '본지 시간': 760450,\n",
       " '시간 지났는데도': 956635,\n",
       " '지났는데도 닥터스': 1650366,\n",
       " '닥터스 트레인': 372222,\n",
       " '트레인 검색': 1781975,\n",
       " '검색 ㅋㅋㅋ': 101056,\n",
       " '보는': 720550,\n",
       " '네네': 318612,\n",
       " '있었어요': 1437394,\n",
       " '배우': 683704,\n",
       " '역시': 1185263,\n",
       " '호화': 1928826,\n",
       " '캐스팅': 1747766,\n",
       " '이네요': 1335878,\n",
       " '주변': 1623242,\n",
       " '추천': 1730623,\n",
       " '드리고': 455673,\n",
       " '싶은': 995287,\n",
       " 'ㅎㅎ': 9888,\n",
       " '보는 네네': 720790,\n",
       " '네네 너무': 318619,\n",
       " '너무 재미': 307636,\n",
       " '재미 있었어요': 1482677,\n",
       " '있었어요 배우': 1437478,\n",
       " '배우 역시': 685810,\n",
       " '역시 호화': 1187811,\n",
       " '호화 캐스팅': 1928849,\n",
       " '캐스팅 이네요': 1748106,\n",
       " '이네요 ㅋㅋ': 1335879,\n",
       " 'ㅋㅋ 주변': 5836,\n",
       " '주변 추천': 1623503,\n",
       " '추천 드리고': 1730777,\n",
       " '드리고 싶은': 455708,\n",
       " '싶은 영화': 995524,\n",
       " '영화 ㅎㅎ': 1214973,\n",
       " '그냥': 162360,\n",
       " '그래요': 171998,\n",
       " '만은': 546100,\n",
       " '같아요': 74618,\n",
       " '그냥 그래요': 162700,\n",
       " '그래요 만은': 172033,\n",
       " '만은 같아요': 546116,\n",
       " '유쾌하다는': 1311836,\n",
       " '어울리는': 1119982,\n",
       " '영화인': 1232923,\n",
       " '유쾌하다는 어울리는': 1311838,\n",
       " '어울리는 영화인': 1120084,\n",
       " '개꾸르잼굇': 83421,\n",
       " '기승': 209176,\n",
       " '전결': 1537194,\n",
       " '지루할': 1655695,\n",
       " '유승호': 1307192,\n",
       " '코믹': 1755604,\n",
       " '연기': 1189987,\n",
       " '하네요': 1837726,\n",
       " '미모': 644995,\n",
       " '기승 전결': 209216,\n",
       " '전결 지루할': 1537300,\n",
       " '지루할 유승호': 1655843,\n",
       " '유승호 코믹': 1307543,\n",
       " '코믹 연기': 1755903,\n",
       " '연기 하네요': 1194498,\n",
       " '하네요 미모': 1837983,\n",
       " '긴장감': 214236,\n",
       " '내내': 292294,\n",
       " '덜덜': 410524,\n",
       " '스타일': 938278,\n",
       " '스릴러': 933636,\n",
       " '좋다': 1599225,\n",
       " '긴장감 보는': 214708,\n",
       " '보는 내내': 720779,\n",
       " '내내 덜덜': 292636,\n",
       " '덜덜 이런': 410619,\n",
       " '이런 스타일': 1349417,\n",
       " '스타일 스릴러': 938491,\n",
       " '스릴러 좋다': 934187,\n",
       " '우리나라': 1277941,\n",
       " '국민': 149543,\n",
       " '봤으면': 783644,\n",
       " '우리나라 국민': 1278033,\n",
       " '국민 봤으면': 149776,\n",
       " '봤으면 하는': 783943,\n",
       " '하는 영화': 1840673,\n",
       " '전염': 1540491,\n",
       " '속도': 912235,\n",
       " '대한': 398952,\n",
       " '개연': 86691,\n",
       " '부족하고': 796028,\n",
       " '감염': 56028,\n",
       " '불규칙한': 807541,\n",
       " '제외': 1571461,\n",
       " '하면': 1850831,\n",
       " '나름': 254324,\n",
       " '괜찮았던': 139888,\n",
       " '총기': 1722154,\n",
       " '무기': 618985,\n",
       " '상대': 865147,\n",
       " '하지': 1858715,\n",
       " '않다': 1069678,\n",
       " '보니': 725692,\n",
       " '서양': 885488,\n",
       " '비해': 820544,\n",
       " '답답한건': 381501,\n",
       " '이나': 1332141,\n",
       " '수준': 921461,\n",
       " '이라': 1340137,\n",
       " '전염 속도': 1540503,\n",
       " '속도 대한': 912258,\n",
       " '대한 개연': 399006,\n",
       " '개연 부족하고': 86933,\n",
       " '부족하고 감염': 796033,\n",
       " '감염 좀비': 56146,\n",
       " '좀비 속도': 1592980,\n",
       " '속도 너무': 912247,\n",
       " '너무 불규칙한': 304852,\n",
       " '불규칙한 제외': 807542,\n",
       " '제외 하면': 1571552,\n",
       " '하면 나름': 1850977,\n",
       " '나름 괜찮았던': 254428,\n",
       " '괜찮았던 좀비': 139917,\n",
       " '좀비 영화': 1593315,\n",
       " '영화 총기': 1228016,\n",
       " '총기 무기': 1722159,\n",
       " '무기 좀비': 619115,\n",
       " '좀비 상대': 1592892,\n",
       " '상대 하지': 865249,\n",
       " '하지 않다': 1859036,\n",
       " '않다 보니': 1069791,\n",
       " '보니 서양': 726191,\n",
       " '서양 좀비': 885546,\n",
       " '영화 비해': 1221778,\n",
       " '비해 답답한건': 820617,\n",
       " '답답한건 사실': 381504,\n",
       " '사실 이나': 849893,\n",
       " '이나 한국': 1334181,\n",
       " '영화 로는': 1218800,\n",
       " '로는 수준': 505433,\n",
       " '수준 이라': 922237,\n",
       " '이라 생각': 1340869,\n",
       " '대박': 391165,\n",
       " '영화 대박': 1217855,\n",
       " '대박 배우': 391564,\n",
       " '배우 연기': 685815,\n",
       " '연기 대박': 1190979,\n",
       " '재밌다': 1507245,\n",
       " '정도': 1552237,\n",
       " '아닌데': 1023537,\n",
       " '결말': 107804,\n",
       " '그나저나': 162127,\n",
       " '김태리': 220546,\n",
       " '이쁘당': 1362208,\n",
       " '재밌다 정도': 1507913,\n",
       " '정도 아닌데': 1553758,\n",
       " '아닌데 생각': 1023700,\n",
       " '생각 결말': 875744,\n",
       " '결말 반전': 108342,\n",
       " '반전 ㅋㅋㅋ': 668676,\n",
       " 'ㅋㅋㅋ 그나저나': 6541,\n",
       " '그나저나 김태리': 162142,\n",
       " '김태리 이쁘당': 220668,\n",
       " '좋아서': 1601224,\n",
       " '인지': 1398862,\n",
       " '몰입도': 615279,\n",
       " '높고': 329700,\n",
       " '개인': 87625,\n",
       " '만족합니다': 549169,\n",
       " '연기 좋아서': 1193831,\n",
       " '좋아서 인지': 1601504,\n",
       " '인지 몰입도': 1399348,\n",
       " '몰입도 높고': 615424,\n",
       " '높고 개인': 329705,\n",
       " '개인 만족합니다': 87921,\n",
       " '좋았을걸': 1613405,\n",
       " '이란': 1344941,\n",
       " '이렇게': 1351323,\n",
       " '발전': 677178,\n",
       " '한지': 1874131,\n",
       " '몰랐음': 613239,\n",
       " '진짜 봤으면': 1674174,\n",
       " '봤으면 좋았을걸': 783899,\n",
       " '좋았을걸 이란': 1613430,\n",
       " '이란 생각': 1345243,\n",
       " '생각 영화': 877185,\n",
       " '영화 이렇게': 1225253,\n",
       " '이렇게 발전': 1352261,\n",
       " '발전 한지': 677478,\n",
       " '한지 몰랐음': 1874167,\n",
       " '역사': 1182940,\n",
       " '영토': 1214485,\n",
       " '시각': 953792,\n",
       " '넓혀줘서': 312753,\n",
       " '좋았음': 1613670,\n",
       " '역사 영토': 1184051,\n",
       " '영토 대한': 1214489,\n",
       " '대한 시각': 399457,\n",
       " '시각 넓혀줘서': 953837,\n",
       " '넓혀줘서 좋았음': 312754,\n",
       " '어밴저스': 1115609,\n",
       " '없었는데': 1147674,\n",
       " '캡틴아메리카': 1749343,\n",
       " '편모': 1796706,\n",
       " '어밴저스 재미': 1115616,\n",
       " '재미 없었는데': 1482000,\n",
       " '없었는데 역시': 1147802,\n",
       " '역시 캡틴아메리카': 1187573,\n",
       " '캡틴아메리카 편모': 1749591,\n",
       " '편모 재미': 1796709,\n",
       " '인물': 1394746,\n",
       " '사소한': 848821,\n",
       " '행동': 1914465,\n",
       " '복선': 755577,\n",
       " '알았더니': 1085526,\n",
       " '그것': 160587,\n",
       " '아니였고': 1020526,\n",
       " '후반': 1945649,\n",
       " '제목': 1569949,\n",
       " '따라': 473352,\n",
       " '그대로': 167450,\n",
       " '아수라': 1033383,\n",
       " '장이': 1478145,\n",
       " '찍어낸': 1694888,\n",
       " '감독': 46733,\n",
       " '머리': 578396,\n",
       " '조씨': 1580106,\n",
       " '뱅뱅': 690693,\n",
       " '맞게': 568357,\n",
       " '지으셔서': 1662857,\n",
       " '드려요': 455353,\n",
       " '인물 사소한': 1395100,\n",
       " '사소한 행동': 848857,\n",
       " '행동 복선': 1914621,\n",
       " '복선 알았더니': 755647,\n",
       " '알았더니 그것': 1085534,\n",
       " '그것 아니였고': 160925,\n",
       " '아니였고 후반': 1020553,\n",
       " '후반 에는': 1946080,\n",
       " '에는 제목': 1161314,\n",
       " '제목 따라': 1570068,\n",
       " '따라 그대로': 473405,\n",
       " '그대로 아수라': 167986,\n",
       " '아수라 장이': 1033861,\n",
       " '장이 배우': 1478211,\n",
       " '배우 정도': 686317,\n",
       " '정도 밖에': 1553254,\n",
       " '밖에 찍어낸': 666124,\n",
       " '찍어낸 감독': 1694889,\n",
       " '감독 머리': 47512,\n",
       " '머리 조씨': 578961,\n",
       " '조씨 뱅뱅': 1580107,\n",
       " '뱅뱅 제목': 690715,\n",
       " '제목 하나': 1570433,\n",
       " '하나 내용': 1834566,\n",
       " '내용 맞게': 297554,\n",
       " '맞게 지으셔서': 568492,\n",
       " '지으셔서 드려요': 1662858,\n",
       " '재밌습니다': 1509580,\n",
       " '있내요': 1424444,\n",
       " '중간': 1636445,\n",
       " '미흡하여': 650389,\n",
       " '집중': 1681379,\n",
       " '떨어지지만': 485256,\n",
       " '뮤지컬': 641264,\n",
       " '출실한': 1732653,\n",
       " '한편': 1876228,\n",
       " '보았내요': 745983,\n",
       " '재밌습니다 음악': 1509960,\n",
       " '좋고 몰입도': 1597274,\n",
       " '몰입도 있내요': 615883,\n",
       " '있내요 중간': 1424450,\n",
       " '중간 중간': 1637857,\n",
       " '중간 갈등': 1636491,\n",
       " '갈등 부분': 43936,\n",
       " '부분 미흡하여': 790989,\n",
       " '미흡하여 집중': 650391,\n",
       " '집중 떨어지지만': 1681620,\n",
       " '떨어지지만 뮤지컬': 485287,\n",
       " '뮤지컬 영화': 641409,\n",
       " '영화 출실한': 1228108,\n",
       " '출실한 영화': 1732654,\n",
       " '영화 한편': 1229085,\n",
       " '한편 보았내요': 1876472,\n",
       " '가볍게': 27236,\n",
       " '보기': 716830,\n",
       " '좋음': 1616786,\n",
       " '가볍게 보기': 27320,\n",
       " '보기 좋음': 717942,\n",
       " '히어로': 1962300,\n",
       " '싫어하고': 986417,\n",
       " '악당': 1051881,\n",
       " '그런거': 176858,\n",
       " '혹평': 1929485,\n",
       " 'ㅠㅠ': 15232,\n",
       " '히어로 진짜': 1963211,\n",
       " '진짜 싫어하고': 1674808,\n",
       " '싫어하고 악당': 986424,\n",
       " '악당 싸우고': 1052116,\n",
       " '싸우고 그런거': 996802,\n",
       " '그런거 정말': 176962,\n",
       " '정말 스타일': 1558057,\n",
       " '스타일 아닌데': 938526,\n",
       " '아닌데 이건': 1023794,\n",
       " '정말 재미있게': 1559566,\n",
       " '봤음 근데': 784574,\n",
       " '근데 혹평': 194951,\n",
       " '혹평 많이': 1929557,\n",
       " '많이 ㅠㅠ': 558665,\n",
       " '방학': 680687,\n",
       " '아이': 1040583,\n",
       " '에게': 1156129,\n",
       " '추억': 1729672,\n",
       " '된것': 444675,\n",
       " '방학 아이': 680746,\n",
       " '아이 에게': 1041847,\n",
       " '에게 좋은': 1157877,\n",
       " '좋은 추억': 1615769,\n",
       " '추억 된것': 1729824,\n",
       " '된것 같아요': 444688,\n",
       " '대안': 395041,\n",
       " '재밌어서': 1510593,\n",
       " '몰랐습니다': 612926,\n",
       " '대안 하고': 395117,\n",
       " '하고 봤는데': 1827736,\n",
       " '봤는데 진짜': 775354,\n",
       " '진짜 너무': 1672756,\n",
       " '너무 재밌어서': 307944,\n",
       " '재밌어서 시간': 1510777,\n",
       " '가는줄 몰랐습니다': 22618,\n",
       " '정체': 1566545,\n",
       " '없는': 1139275,\n",
       " '이다': 1336743,\n",
       " '정체 없는': 1566606,\n",
       " '없는 영화': 1140443,\n",
       " '영화 추천': 1228085,\n",
       " '추천 이다': 1731061,\n",
       " '미었습니다': 647200,\n",
       " '좋아': 1600751,\n",
       " '미었습니다 좋아': 647205,\n",
       " '재미있었어요': 1495298,\n",
       " '무거운': 618030,\n",
       " '있는게': 1427517,\n",
       " '아니고': 1014641,\n",
       " '강동원': 63689,\n",
       " '깨알': 232769,\n",
       " '여친': 1181176,\n",
       " '이랑': 1345606,\n",
       " '데이트': 414023,\n",
       " '영화로': 1231246,\n",
       " '좋아요': 1601727,\n",
       " '정말 재미있었어요': 1559638,\n",
       " '재미있었어요 무거운': 1495506,\n",
       " '무거운 내용': 618044,\n",
       " '내용 있는게': 299122,\n",
       " '있는게 아니고': 1427563,\n",
       " '아니고 강동원': 1014667,\n",
       " '강동원 깨알': 63848,\n",
       " '깨알 같은': 232783,\n",
       " '같은 코믹': 78649,\n",
       " '코믹 여친': 1755900,\n",
       " '여친 이랑': 1181379,\n",
       " '이랑 봤는데': 1346287,\n",
       " '봤는데 데이트': 773582,\n",
       " '데이트 영화로': 414082,\n",
       " '영화로 좋아요': 1232331,\n",
       " '아무': 1030811,\n",
       " '아무 생각': 1031001,\n",
       " '없이 보고': 1152418,\n",
       " '보고 보고': 708474,\n",
       " '보고 나선': 707448,\n",
       " '나선 아무': 258513,\n",
       " '생각 좋다': 877580,\n",
       " '국뽕': 150288,\n",
       " '감성': 54995,\n",
       " '팔이': 1791585,\n",
       " '이네': 1334945,\n",
       " '제의': 1571568,\n",
       " '명량': 594155,\n",
       " '이라도': 1343885,\n",
       " '꿈꿨냐': 239695,\n",
       " '리암': 513500,\n",
       " '니슨': 355558,\n",
       " '아깝다': 1011519,\n",
       " 'ㅉㅉ': 3245,\n",
       " '국뽕 감성': 150294,\n",
       " '감성 팔이': 55605,\n",
       " '팔이 시작': 1791718,\n",
       " '시작 이네': 967974,\n",
       " '이네 제의': 1335718,\n",
       " '제의 명량': 1571584,\n",
       " '명량 이라도': 594210,\n",
       " '이라도 꿈꿨냐': 1343948,\n",
       " '꿈꿨냐 리암': 239696,\n",
       " '리암 니슨': 513569,\n",
       " '니슨 아깝다': 355604,\n",
       " '아깝다 ㅉㅉ': 1011529,\n",
       " '부로': 788670,\n",
       " '수록': 919345,\n",
       " '재미있어요': 1492532,\n",
       " '후반 부로': 1945930,\n",
       " '부로 수록': 788708,\n",
       " '수록 재미있어요': 919461,\n",
       " '아침': 1048473,\n",
       " '부터': 797843,\n",
       " '재밌게': 1502082,\n",
       " '아침 부터': 1048528,\n",
       " '부터 재밌게': 799405,\n",
       " '재밌게 봤습니다': 1502772,\n",
       " '조정석': 1582355,\n",
       " '좋은대': 1615932,\n",
       " '시나리오': 958592,\n",
       " '어처구니': 1123946,\n",
       " '없어요': 1146520,\n",
       " '영화제작사': 1233660,\n",
       " '부탁': 797752,\n",
       " '인대': 1392121,\n",
       " '제발': 1570484,\n",
       " '만드실거면': 536931,\n",
       " '영화제작': 1233624,\n",
       " '코메디': 1755005,\n",
       " '아닌': 1021857,\n",
       " '드라마영화': 454292,\n",
       " '제작': 1573490,\n",
       " '해주시면': 1897739,\n",
       " '좋을거': 1616484,\n",
       " '같습니다': 72741,\n",
       " '조정석 연기': 1582626,\n",
       " '연기 좋은대': 1193925,\n",
       " '좋은대 시나리오': 1615937,\n",
       " '시나리오 어처구니': 959005,\n",
       " '어처구니 없어요': 1123965,\n",
       " '없어요 영화제작사': 1146693,\n",
       " '영화제작사 부탁': 1233662,\n",
       " '부탁 인대': 797768,\n",
       " '인대 제발': 1392144,\n",
       " '제발 감성': 1570511,\n",
       " '감성 이영화': 55434,\n",
       " '이영화 만드실거면': 1375981,\n",
       " '만드실거면 영화제작': 536932,\n",
       " '영화제작 코메디': 1233649,\n",
       " '코메디 아닌': 1755029,\n",
       " '아닌 드라마영화': 1022107,\n",
       " '드라마영화 제작': 454297,\n",
       " '제작 해주시면': 1573808,\n",
       " '해주시면 좋을거': 1897744,\n",
       " '좋을거 같습니다': 1616493,\n",
       " '요즘': 1271381,\n",
       " '제대로': 1568398,\n",
       " '못잤는데': 616891,\n",
       " '보다': 726874,\n",
       " '잠들었습니다': 1469280,\n",
       " '졸피뎀같': 1591064,\n",
       " '감사': 53061,\n",
       " '드립니다': 456407,\n",
       " '요즘 제대로': 1271905,\n",
       " '제대로 못잤는데': 1568751,\n",
       " '못잤는데 영화': 616892,\n",
       " '영화 보다': 1220882,\n",
       " '보다 잠들었습니다': 729638,\n",
       " '잠들었습니다 졸피뎀같': 1469288,\n",
       " '졸피뎀같 영화': 1591065,\n",
       " '영화 감사': 1215237,\n",
       " '감사 드립니다': 53128,\n",
       " '예고편': 1234508,\n",
       " '보면': 737788,\n",
       " '였네요': 1204954,\n",
       " '예고편 보면': 1234723,\n",
       " '보면 영화': 738921,\n",
       " '영화 시작': 1222841,\n",
       " '시작 였네요': 967909,\n",
       " '였네요 재미있었어요': 1205129,\n",
       " '기대': 200379,\n",
       " '이상': 1362740,\n",
       " '기대 이상': 200961,\n",
       " '이상 재밌게': 1363900,\n",
       " '재밌게 봤어요': 1502783,\n",
       " '귀신': 156102,\n",
       " '뭔가': 639290,\n",
       " '귀여운것': 156753,\n",
       " '귀신 뭔가': 156232,\n",
       " '뭔가 귀여운것': 639397,\n",
       " '귀여운것 같아요': 156760,\n",
       " '같아요 재밌네요': 75569,\n",
       " '예쁜': 1236960,\n",
       " '상미': 866349,\n",
       " '에바': 1164000,\n",
       " '그린': 187669,\n",
       " '예쁜 상미': 1237015,\n",
       " '상미 예쁜': 866874,\n",
       " '예쁜 에바': 1237046,\n",
       " '에바 그린': 1164005,\n",
       " '그린 너무': 187710,\n",
       " '너무 재미있게': 307684,\n",
       " '재미있게 봤어요': 1488326,\n",
       " '개존잼': 89300,\n",
       " '제임스맥어보이': 1573392,\n",
       " '멋있어': 585732,\n",
       " '미치겠다': 648785,\n",
       " '개존잼 제임스맥어보이': 89329,\n",
       " '제임스맥어보이 너무': 1573394,\n",
       " '너무 멋있어': 304027,\n",
       " '멋있어 미치겠다': 585761,\n",
       " '믿고': 651956,\n",
       " '마블': 520536,\n",
       " '역시 믿고': 1186153,\n",
       " '믿고 보는': 652106,\n",
       " '보는 마블': 720975,\n",
       " '마블 역시': 521309,\n",
       " '살린': 857728,\n",
       " '아녔음': 1013284,\n",
       " '재미없었다': 1486585,\n",
       " '영화 할리퀸': 1229110,\n",
       " '할리퀸 제대로': 1879484,\n",
       " ...}"
      ]
     },
     "execution_count": 177,
     "metadata": {},
     "output_type": "execute_result"
    }
   ],
   "source": [
    "tf_vectorizer.vocabulary_"
   ]
  },
  {
   "cell_type": "code",
   "execution_count": 178,
   "metadata": {},
   "outputs": [],
   "source": [
    "lr_clf2 = LogisticRegression(C=5, max_iter = 100, solver='saga', n_jobs=-1)"
   ]
  },
  {
   "cell_type": "code",
   "execution_count": 179,
   "metadata": {},
   "outputs": [
    {
     "data": {
      "text/plain": [
       "LogisticRegression(C=5, n_jobs=-1, solver='saga')"
      ]
     },
     "execution_count": 179,
     "metadata": {},
     "output_type": "execute_result"
    }
   ],
   "source": [
    "lr_clf2.fit(tf_train_features, y_train)"
   ]
  },
  {
   "cell_type": "code",
   "execution_count": 180,
   "metadata": {},
   "outputs": [],
   "source": [
    "pred_labels2 = lr_clf2.predict(tf_test_features)"
   ]
  },
  {
   "cell_type": "code",
   "execution_count": 181,
   "metadata": {},
   "outputs": [
    {
     "name": "stdout",
     "output_type": "stream",
     "text": [
      "Misclassified samples: 12096 out of 201781\n",
      "Accuracy: 0.94\n"
     ]
    }
   ],
   "source": [
    "from sklearn.metrics import accuracy_score\n",
    "print('Misclassified samples: {} out of {}'.format((pred_labels2 != y_test).sum(),len(y_test)))\n",
    "print('Accuracy: %.2f' % accuracy_score(y_test, pred_labels2))"
   ]
  },
  {
   "cell_type": "code",
   "execution_count": 182,
   "metadata": {},
   "outputs": [
    {
     "data": {
      "text/plain": [
       "array([[ 18855,   8295],\n",
       "       [  3801, 170830]], dtype=int64)"
      ]
     },
     "execution_count": 182,
     "metadata": {},
     "output_type": "execute_result"
    }
   ],
   "source": [
    "from sklearn.metrics import confusion_matrix\n",
    "confusion_matrix(y_test, pred_labels2)"
   ]
  },
  {
   "cell_type": "code",
   "execution_count": 183,
   "metadata": {},
   "outputs": [
    {
     "name": "stdout",
     "output_type": "stream",
     "text": [
      "              precision    recall  f1-score   support\n",
      "\n",
      "           0       0.83      0.69      0.76     27150\n",
      "           1       0.95      0.98      0.97    174631\n",
      "\n",
      "    accuracy                           0.94    201781\n",
      "   macro avg       0.89      0.84      0.86    201781\n",
      "weighted avg       0.94      0.94      0.94    201781\n",
      "\n"
     ]
    }
   ],
   "source": [
    "from sklearn.metrics import classification_report\n",
    "print(classification_report(y_test, pred_labels2))"
   ]
  },
  {
   "cell_type": "code",
   "execution_count": 184,
   "metadata": {},
   "outputs": [],
   "source": [
    "y_prob2 = lr_clf2.predict_proba(tf_test_features)"
   ]
  },
  {
   "cell_type": "code",
   "execution_count": 185,
   "metadata": {},
   "outputs": [
    {
     "name": "stdout",
     "output_type": "stream",
     "text": [
      "0.9592542150940884\n"
     ]
    }
   ],
   "source": [
    "from sklearn.metrics import roc_auc_score\n",
    "\n",
    "auc_score1 = roc_auc_score(y_test, y_prob2[:,1])\n",
    "\n",
    "print(auc_score1)"
   ]
  },
  {
   "cell_type": "code",
   "execution_count": 186,
   "metadata": {},
   "outputs": [],
   "source": [
    "from sklearn.metrics import roc_curve\n",
    "\n",
    "fpr1, tpr1, thresh1 = roc_curve(y_test, y_prob2[:,1], pos_label=1)\n",
    "\n",
    "random_probs2 = [0 for i in range(len(y_test))]\n",
    "p_fpr, p_tpr, _ = roc_curve(y_test, random_probs2, pos_label=1)"
   ]
  },
  {
   "cell_type": "code",
   "execution_count": 187,
   "metadata": {},
   "outputs": [
    {
     "data": {
      "image/png": "[encoded data removed]",
      "text/plain": [
       "<Figure size 576x396 with 1 Axes>"
      ]
     },
     "metadata": {},
     "output_type": "display_data"
    }
   ],
   "source": [
    "plt.style.use('seaborn')\n",
    "\n",
    "plt.plot(fpr1, tpr1, linestyle='--',color='orange', label='Rogistic Regression')\n",
    "plt.plot(p_fpr, p_tpr, linestyle='--', color='blue')\n",
    "plt.title('ROC curve')\n",
    "plt.xlabel('False Positive Rate')\n",
    "plt.ylabel('True Positive rate')\n",
    "\n",
    "plt.legend(loc='best')\n",
    "plt.savefig('ROC',dpi=300)\n",
    "plt.show()"
   ]
  },
  {
   "cell_type": "markdown",
   "metadata": {},
   "source": [
    "### 7.2.3 상위 긍정 단어 50개 출력\n",
    "- 이를 위해서 학습 결과로 도출된 파라미터의 값을 기준으로 정렬하여 파라미터의 값이 큰 순으로 50개의 단어들을 출력하면 됨"
   ]
  },
  {
   "cell_type": "code",
   "execution_count": 188,
   "metadata": {},
   "outputs": [
    {
     "name": "stdout",
     "output_type": "stream",
     "text": [
      "[(237966, 13.751482466869462), (1515540, 12.383015145021696), (1502082, 12.073101215067513), (1611982, 10.893785662662372), (1722912, 10.870762417271175)]\n"
     ]
    }
   ],
   "source": [
    "vocablist = [word for word, _ in sorted(tf_vectorizer.vocabulary_.items(), key=lambda x:x[1])]\n",
    "coefficients = lr_clf2.coef_.tolist()\n",
    "sorted_coefficients = sorted(enumerate(coefficients[0]), key=lambda x:x[1], reverse=True)\n",
    "print(sorted_coefficients[:5])"
   ]
  },
  {
   "cell_type": "code",
   "execution_count": 189,
   "metadata": {
    "scrolled": true
   },
   "outputs": [
    {
     "name": "stdout",
     "output_type": "stream",
     "text": [
      "\n",
      "긍정적인 단어 Top 50 :\n",
      "----------------------------\n",
      "꿀잼 (13.751)\n",
      "재밌었어요 (12.383)\n",
      "재밌게 (12.073)\n",
      "좋았어요 (10.894)\n",
      "최고 (10.871)\n",
      "재미있었어요 (10.606)\n",
      "재밌어요 (10.342)\n",
      "여운 (10.333)\n",
      "좋았습니다 (10.312)\n",
      "재미있게 (10.118)\n",
      "재밌었음 (9.989)\n",
      "재밌는데 (9.607)\n",
      "존잼 (9.512)\n",
      "가슴 (9.372)\n",
      "좋아요 (9.217)\n",
      "좋았음 (8.940)\n",
      "재밌습니다 (8.840)\n",
      "봤어요 (8.720)\n",
      "재밌고 (8.711)\n",
      "지루하지 (8.611)\n",
      "대박 (8.468)\n",
      "강추 (8.154)\n",
      "아깝지 (8.102)\n",
      "좋았고 (8.071)\n",
      "흥미진진 (8.057)\n",
      "충분히 (8.051)\n",
      "재미있었습니다 (8.019)\n",
      "마음 (7.934)\n",
      "재밌네요 (7.931)\n",
      "재미있었음 (7.923)\n",
      "실망 시키지 (7.845)\n",
      "약간 (7.816)\n",
      "믿고 보는 (7.778)\n",
      "심장 (7.760)\n",
      "지루할 (7.754)\n",
      "재밌음 (7.661)\n",
      "사랑 (7.660)\n",
      "만족 (7.630)\n",
      "개꿀잼 (7.497)\n",
      "짱짱 (7.496)\n",
      "재밌었습니다 (7.474)\n",
      "좋고 (7.462)\n",
      "잼나게 (7.355)\n",
      "굿굿 (7.299)\n",
      "재밌었다 (7.290)\n",
      "눈물 (7.245)\n",
      "최고다 (7.210)\n",
      "재미있네요 (7.117)\n",
      "노잼 노잼 (7.096)\n",
      "좋았다 (7.094)\n"
     ]
    }
   ],
   "source": [
    "print('\\n긍정적인 단어 Top 50 :')\n",
    "print('----------------------------')\n",
    "for word, coef in sorted_coefficients[:50]:\n",
    "    print('{0:} ({1:.3f})'.format(vocablist[word], coef))"
   ]
  },
  {
   "cell_type": "markdown",
   "metadata": {},
   "source": [
    "### 7.2.4 상위 부정 단어 50개 출력\n",
    "- 이를 위해서 학습 결과로 도출된 파라미터의 값을 기준으로 정렬하여 파라미터의 값이 작은 순으로 50개의 단어들을 출력하면 됨"
   ]
  },
  {
   "cell_type": "code",
   "execution_count": 190,
   "metadata": {
    "scrolled": true
   },
   "outputs": [
    {
     "name": "stdout",
     "output_type": "stream",
     "text": [
      "\n",
      "부정적인 단어 Top 50 :\n",
      "----------------------------\n",
      "최악 (-20.154)\n",
      "노잼 (-17.494)\n",
      "차라리 (-13.554)\n",
      "아깝다 (-13.440)\n",
      "쓰레기 (-12.288)\n",
      "실망 (-12.185)\n",
      "알바 (-12.156)\n",
      "재미없음 (-12.121)\n",
      "아까 (-12.065)\n",
      "졸작 (-11.835)\n",
      "이딴 (-10.845)\n",
      "없고 (-10.734)\n",
      "재미없다 (-10.647)\n",
      "그나마 (-10.604)\n",
      "망작 (-10.170)\n",
      "지루하고 (-9.916)\n",
      "비추 (-9.909)\n",
      "별로 (-9.897)\n",
      "재미없고 (-9.778)\n",
      "재미없어요 (-9.769)\n",
      "엉망 (-9.619)\n",
      "아까워 (-9.579)\n",
      "하품 (-9.545)\n",
      "억지 (-9.264)\n",
      "재미없었다 (-9.216)\n",
      "미화 (-9.172)\n",
      "재미없어서 (-9.135)\n",
      "불면증 (-9.127)\n",
      "안되고 (-9.102)\n",
      "역사왜곡 (-9.098)\n",
      "잤다 (-8.742)\n",
      "지루했다 (-8.653)\n",
      "아까워서 (-8.557)\n",
      "유치하고 (-8.510)\n",
      "삼류 (-8.399)\n",
      "재미없습니다 (-8.395)\n",
      "불륜 (-8.348)\n",
      "재미없는 (-8.282)\n",
      "감독 (-8.245)\n",
      "재미없었음 (-8.203)\n",
      "억지로 (-8.192)\n",
      "낭비 (-8.003)\n",
      "자살 (-7.932)\n",
      "발연기 (-7.924)\n",
      "재미없네요 (-7.911)\n",
      "거품 (-7.908)\n",
      "수준 (-7.854)\n",
      "지루해요 (-7.843)\n",
      "아무리 (-7.696)\n",
      "개연 (-7.679)\n"
     ]
    }
   ],
   "source": [
    "print('\\n부정적인 단어 Top 50 :')\n",
    "print('----------------------------')\n",
    "for word, coef in reversed(sorted_coefficients[-50:]):\n",
    "    print('{0:} ({1:.3f})'.format(vocablist[word], coef))"
   ]
  },
  {
   "cell_type": "code",
   "execution_count": null,
   "metadata": {},
   "outputs": [],
   "source": []
  },
  {
   "cell_type": "code",
   "execution_count": null,
   "metadata": {},
   "outputs": [],
   "source": []
  },
  {
   "cell_type": "markdown",
   "metadata": {},
   "source": [
    "# 8. 학습과 평가 작업 (불균형 클래스 해결 후)\n",
    "- CountVectorizer & TfidfVectorizer\n",
    "- SMOTE를 이용하여 불균형 클래스 해결 \n",
    "- 학습 결과 (test dataset에 대한 confusion matrix를 이용하여 계산될 수 있는 지표값들 + ROC & AUC) 리포트 & 해석하기"
   ]
  },
  {
   "cell_type": "code",
   "execution_count": 191,
   "metadata": {},
   "outputs": [],
   "source": [
    "from imblearn.over_sampling import SMOTE"
   ]
  },
  {
   "cell_type": "code",
   "execution_count": 201,
   "metadata": {},
   "outputs": [],
   "source": [
    "df_processed= pd.read_csv('2016_movie_processed_reviews.txt', delimiter='\\t', engine='python', encoding='UTF-8')"
   ]
  },
  {
   "cell_type": "code",
   "execution_count": 202,
   "metadata": {},
   "outputs": [],
   "source": [
    "from sklearn.model_selection import train_test_split\n",
    "X_train, X_test, y_train, y_test = train_test_split(X, y, test_size=0.3, random_state=42)"
   ]
  },
  {
   "cell_type": "markdown",
   "metadata": {},
   "source": [
    "## 8.1 CountVectorizer"
   ]
  },
  {
   "cell_type": "code",
   "execution_count": 203,
   "metadata": {},
   "outputs": [],
   "source": [
    "ct_vectorizer = CountVectorizer(min_df=1, ngram_range=(1,1)) \n",
    "ct_train_features = ct_vectorizer.fit_transform(X_train) \n",
    "ct_test_features = ct_vectorizer.transform(X_test)"
   ]
  },
  {
   "cell_type": "code",
   "execution_count": 204,
   "metadata": {},
   "outputs": [],
   "source": [
    "smote = SMOTE(random_state=0)\n",
    "X_train_over_ct,y_train_over_ct = smote.fit_sample(ct_train_features,y_train)"
   ]
  },
  {
   "cell_type": "code",
   "execution_count": 205,
   "metadata": {},
   "outputs": [
    {
     "name": "stdout",
     "output_type": "stream",
     "text": [
      "data distribution:\n",
      "    Total: 815164\n",
      "    1: 407582 (50.0% of total)\n",
      "    0: 407582 (50.0% of total)\n"
     ]
    }
   ],
   "source": [
    "neg, pos = np.bincount(y_train_over)\n",
    "total = neg + pos\n",
    "print('data distribution:\\n    Total: {}\\n    1: {} ({:.1f}% of total)\\n    0: {} ({:.1f}% of total)'.format(\n",
    "    total, pos, 100 * pos / total, neg, 100 * neg / total))"
   ]
  },
  {
   "cell_type": "code",
   "execution_count": 206,
   "metadata": {},
   "outputs": [],
   "source": [
    "lr_clf1 = LogisticRegression(C=5, max_iter = 100, solver='saga', n_jobs=-1)"
   ]
  },
  {
   "cell_type": "code",
   "execution_count": 210,
   "metadata": {},
   "outputs": [
    {
     "name": "stderr",
     "output_type": "stream",
     "text": [
      "C:\\Users\\gram_\\anaconda3\\envs\\min\\lib\\site-packages\\sklearn\\linear_model\\_sag.py:329: ConvergenceWarning: The max_iter was reached which means the coef_ did not converge\n",
      "  \"the coef_ did not converge\", ConvergenceWarning)\n"
     ]
    },
    {
     "data": {
      "text/plain": [
       "LogisticRegression(C=5, n_jobs=-1, solver='saga')"
      ]
     },
     "execution_count": 210,
     "metadata": {},
     "output_type": "execute_result"
    }
   ],
   "source": [
    "lr_clf1.fit(X_train_over_ct, y_train_over_ct)"
   ]
  },
  {
   "cell_type": "code",
   "execution_count": 211,
   "metadata": {},
   "outputs": [],
   "source": [
    "pred_labels1 = lr_clf1.predict(ct_test_features)"
   ]
  },
  {
   "cell_type": "code",
   "execution_count": 212,
   "metadata": {},
   "outputs": [
    {
     "name": "stdout",
     "output_type": "stream",
     "text": [
      "Misclassified samples: 27529 out of 201781\n",
      "Accuracy: 0.86\n"
     ]
    }
   ],
   "source": [
    "print('Misclassified samples: {} out of {}'.format((pred_labels1 != y_test).sum(),len(y_test)))\n",
    "print('Accuracy: %.2f' % accuracy_score(y_test, pred_labels1))"
   ]
  },
  {
   "cell_type": "code",
   "execution_count": 214,
   "metadata": {},
   "outputs": [
    {
     "data": {
      "text/plain": [
       "array([[ 21015,   6135],\n",
       "       [ 21394, 153237]], dtype=int64)"
      ]
     },
     "execution_count": 214,
     "metadata": {},
     "output_type": "execute_result"
    }
   ],
   "source": [
    "confusion_matrix(y_test, pred_labels1)"
   ]
  },
  {
   "cell_type": "code",
   "execution_count": 215,
   "metadata": {},
   "outputs": [
    {
     "name": "stdout",
     "output_type": "stream",
     "text": [
      "              precision    recall  f1-score   support\n",
      "\n",
      "           0       0.50      0.77      0.60     27150\n",
      "           1       0.96      0.88      0.92    174631\n",
      "\n",
      "    accuracy                           0.86    201781\n",
      "   macro avg       0.73      0.83      0.76    201781\n",
      "weighted avg       0.90      0.86      0.88    201781\n",
      "\n"
     ]
    }
   ],
   "source": [
    "print(classification_report(y_test, pred_labels1))"
   ]
  },
  {
   "cell_type": "code",
   "execution_count": 216,
   "metadata": {},
   "outputs": [],
   "source": [
    "y_prob1 = lr_clf1.predict_proba(ct_test_features)"
   ]
  },
  {
   "cell_type": "code",
   "execution_count": 217,
   "metadata": {},
   "outputs": [
    {
     "name": "stdout",
     "output_type": "stream",
     "text": [
      "0.9037246125698161\n"
     ]
    }
   ],
   "source": [
    "auc_score1 = roc_auc_score(y_test, y_prob1[:,1])\n",
    "\n",
    "print(auc_score1)"
   ]
  },
  {
   "cell_type": "code",
   "execution_count": 218,
   "metadata": {},
   "outputs": [],
   "source": [
    "fpr1, tpr1, thresh1 = roc_curve(y_test, y_prob1[:,1], pos_label=1)\n",
    "\n",
    "random_probs1 = [0 for i in range(len(y_test))]\n",
    "p_fpr, p_tpr, _ = roc_curve(y_test, random_probs1, pos_label=1)"
   ]
  },
  {
   "cell_type": "code",
   "execution_count": 219,
   "metadata": {},
   "outputs": [
    {
     "data": {
      "image/png": "[encoded data removed]",
      "text/plain": [
       "<Figure size 576x396 with 1 Axes>"
      ]
     },
     "metadata": {},
     "output_type": "display_data"
    }
   ],
   "source": [
    "plt.style.use('seaborn')\n",
    "\n",
    "plt.plot(fpr1, tpr1, linestyle='--',color='orange', label='Rogistic Regression')\n",
    "plt.plot(p_fpr, p_tpr, linestyle='--', color='blue')\n",
    "\n",
    "plt.title('ROC curve')\n",
    "plt.xlabel('False Positive Rate')\n",
    "plt.ylabel('True Positive rate')\n",
    "\n",
    "plt.legend(loc='best')\n",
    "plt.savefig('ROC',dpi=300)\n",
    "plt.show()"
   ]
  },
  {
   "cell_type": "code",
   "execution_count": null,
   "metadata": {},
   "outputs": [],
   "source": []
  },
  {
   "cell_type": "markdown",
   "metadata": {},
   "source": [
    "## 8.2 TfidfVectorizer"
   ]
  },
  {
   "cell_type": "code",
   "execution_count": 220,
   "metadata": {},
   "outputs": [],
   "source": [
    "tf_vectorizer = TfidfVectorizer(min_df=1, ngram_range=(1,2)) \n",
    "tf_train_features = tf_vectorizer.fit_transform(X_train) \n",
    "tf_test_features = tf_vectorizer.transform(X_test)"
   ]
  },
  {
   "cell_type": "code",
   "execution_count": 221,
   "metadata": {},
   "outputs": [],
   "source": [
    "smote = SMOTE(random_state=0)\n",
    "X_train_over_tf,y_train_over_tf = smote.fit_sample(tf_train_features, y_train)"
   ]
  },
  {
   "cell_type": "code",
   "execution_count": 222,
   "metadata": {},
   "outputs": [
    {
     "name": "stdout",
     "output_type": "stream",
     "text": [
      "data distribution:\n",
      "    Total: 815164\n",
      "    1: 407582 (50.0% of total)\n",
      "    0: 407582 (50.0% of total)\n"
     ]
    }
   ],
   "source": [
    "neg, pos = np.bincount(y_train_over_tf)\n",
    "total = neg + pos\n",
    "print('data distribution:\\n    Total: {}\\n    1: {} ({:.1f}% of total)\\n    0: {} ({:.1f}% of total)'.format(\n",
    "    total, pos, 100 * pos / total, neg, 100 * neg / total))"
   ]
  },
  {
   "cell_type": "code",
   "execution_count": 223,
   "metadata": {},
   "outputs": [],
   "source": [
    "lr_clf2 = LogisticRegression(C=5, max_iter = 100, solver='saga', n_jobs=-1)"
   ]
  },
  {
   "cell_type": "code",
   "execution_count": 224,
   "metadata": {},
   "outputs": [
    {
     "data": {
      "text/plain": [
       "LogisticRegression(C=5, n_jobs=-1, solver='saga')"
      ]
     },
     "execution_count": 224,
     "metadata": {},
     "output_type": "execute_result"
    }
   ],
   "source": [
    "lr_clf2.fit(X_train_over_tf, y_train_over_tf)"
   ]
  },
  {
   "cell_type": "code",
   "execution_count": 225,
   "metadata": {},
   "outputs": [],
   "source": [
    "pred_labels2 = lr_clf2.predict(tf_test_features)"
   ]
  },
  {
   "cell_type": "code",
   "execution_count": 226,
   "metadata": {},
   "outputs": [
    {
     "name": "stdout",
     "output_type": "stream",
     "text": [
      "Misclassified samples: 16392 out of 201781\n",
      "Accuracy: 0.92\n"
     ]
    }
   ],
   "source": [
    "print('Misclassified samples: {} out of {}'.format((pred_labels2 != y_test).sum(),len(y_test)))\n",
    "print('Accuracy: %.2f' % accuracy_score(y_test, pred_labels2))"
   ]
  },
  {
   "cell_type": "code",
   "execution_count": 227,
   "metadata": {},
   "outputs": [
    {
     "data": {
      "text/plain": [
       "array([[ 20073,   7077],\n",
       "       [  9315, 165316]], dtype=int64)"
      ]
     },
     "execution_count": 227,
     "metadata": {},
     "output_type": "execute_result"
    }
   ],
   "source": [
    "confusion_matrix(y_test, pred_labels2)"
   ]
  },
  {
   "cell_type": "code",
   "execution_count": 228,
   "metadata": {},
   "outputs": [
    {
     "name": "stdout",
     "output_type": "stream",
     "text": [
      "              precision    recall  f1-score   support\n",
      "\n",
      "           0       0.68      0.74      0.71     27150\n",
      "           1       0.96      0.95      0.95    174631\n",
      "\n",
      "    accuracy                           0.92    201781\n",
      "   macro avg       0.82      0.84      0.83    201781\n",
      "weighted avg       0.92      0.92      0.92    201781\n",
      "\n"
     ]
    }
   ],
   "source": [
    "print(classification_report(y_test, pred_labels2))"
   ]
  },
  {
   "cell_type": "code",
   "execution_count": 229,
   "metadata": {},
   "outputs": [],
   "source": [
    "y_prob2 = lr_clf2.predict_proba(tf_test_features)"
   ]
  },
  {
   "cell_type": "code",
   "execution_count": 230,
   "metadata": {},
   "outputs": [
    {
     "name": "stdout",
     "output_type": "stream",
     "text": [
      "0.9413136246991854\n"
     ]
    }
   ],
   "source": [
    "auc_score1 = roc_auc_score(y_test, y_prob2[:,1])\n",
    "\n",
    "print(auc_score1)"
   ]
  },
  {
   "cell_type": "code",
   "execution_count": 231,
   "metadata": {},
   "outputs": [],
   "source": [
    "fpr1, tpr1, thresh1 = roc_curve(y_test, y_prob2[:,1], pos_label=1)\n",
    "\n",
    "random_probs2 = [0 for i in range(len(y_test))]\n",
    "p_fpr, p_tpr, _ = roc_curve(y_test, random_probs2, pos_label=1)"
   ]
  },
  {
   "cell_type": "code",
   "execution_count": 232,
   "metadata": {},
   "outputs": [
    {
     "data": {
      "image/png": "[encoded data removed]",
      "text/plain": [
       "<Figure size 576x396 with 1 Axes>"
      ]
     },
     "metadata": {},
     "output_type": "display_data"
    }
   ],
   "source": [
    "plt.style.use('seaborn')\n",
    "\n",
    "plt.plot(fpr1, tpr1, linestyle='--',color='orange', label='Rogistic Regression')\n",
    "plt.plot(p_fpr, p_tpr, linestyle='--', color='blue')\n",
    "plt.title('ROC curve')\n",
    "plt.xlabel('False Positive Rate')\n",
    "plt.ylabel('True Positive rate')\n",
    "\n",
    "plt.legend(loc='best')\n",
    "plt.savefig('ROC',dpi=300)\n",
    "plt.show()"
   ]
  }
 ],
 "metadata": {
  "kernelspec": {
   "display_name": "Python 3",
   "language": "python",
   "name": "python3"
  },
  "language_info": {
   "codemirror_mode": {
    "name": "ipython",
    "version": 3
   },
   "file_extension": ".py",
   "mimetype": "text/x-python",
   "name": "python",
   "nbconvert_exporter": "python",
   "pygments_lexer": "ipython3",
   "version": "3.7.7"
  },
  "toc": {
   "base_numbering": 1,
   "nav_menu": {},
   "number_sections": true,
   "sideBar": true,
   "skip_h1_title": false,
   "title_cell": "Table of Contents",
   "title_sidebar": "Contents",
   "toc_cell": false,
   "toc_position": {},
   "toc_section_display": true,
   "toc_window_display": false
  },
  "varInspector": {
   "cols": {
    "lenName": 16,
    "lenType": 16,
    "lenVar": 40
   },
   "kernels_config": {
    "python": {
     "delete_cmd_postfix": "",
     "delete_cmd_prefix": "del ",
     "library": "var_list.py",
     "varRefreshCmd": "print(var_dic_list())"
    },
    "r": {
     "delete_cmd_postfix": ") ",
     "delete_cmd_prefix": "rm(",
     "library": "var_list.r",
     "varRefreshCmd": "cat(var_dic_list()) "
    }
   },
   "types_to_exclude": [
    "module",
    "function",
    "builtin_function_or_method",
    "instance",
    "_Feature"
   ],
   "window_display": false
  }
 },
 "nbformat": 4,
 "nbformat_minor": 4
}
